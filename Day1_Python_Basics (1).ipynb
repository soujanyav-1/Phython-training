{
  "nbformat": 4,
  "nbformat_minor": 0,
  "metadata": {
    "colab": {
      "provenance": []
    },
    "kernelspec": {
      "name": "python3",
      "display_name": "Python 3"
    },
    "language_info": {
      "name": "python"
    }
  },
  "cells": [
    {
      "cell_type": "code",
      "execution_count": null,
      "metadata": {
        "id": "lajyy_F508A7"
      },
      "outputs": [],
      "source": [
        "a = 10\n",
        "print(a)\n",
        "print(\"a=\",id(a))\n",
        "\n",
        "b=10\n",
        "print(b)\n",
        "print(\"b=\",id(b))\n",
        "\n",
        "c=a\n",
        "print(c)\n",
        "print(\"c=\",id(c))"
      ]
    },
    {
      "cell_type": "code",
      "source": [
        "# dynamic programming\n",
        "\n",
        "a=10\n",
        "print(a)\n",
        "print(id(a))\n",
        "\n",
        "a = 3.14\n",
        "print(a)\n",
        "print(id(a))\n",
        "\n",
        "a =\"NTT\"\n",
        "print(a)\n",
        "print(id(a))"
      ],
      "metadata": {
        "id": "-i-0aiML1_Jc"
      },
      "execution_count": null,
      "outputs": []
    },
    {
      "cell_type": "code",
      "source": [
        "# deleting a variable\n",
        "\n",
        "a = 20\n",
        "print(a)\n",
        "del a\n",
        "print(a)"
      ],
      "metadata": {
        "id": "cdS8o4-f1_XP"
      },
      "execution_count": null,
      "outputs": []
    },
    {
      "cell_type": "code",
      "source": [
        "# creating multiple variables\n",
        "\n",
        "a,b,c = 10 , 3.14 , \"NTT\"\n",
        "print(a,b,c)"
      ],
      "metadata": {
        "colab": {
          "base_uri": "https://localhost:8080/"
        },
        "id": "-Tcxwt2z1_hN",
        "outputId": "2454678a-f9c3-499e-f5de-5d8dff16c5d8"
      },
      "execution_count": null,
      "outputs": [
        {
          "output_type": "stream",
          "name": "stdout",
          "text": [
            "10 3.14 NTT\n"
          ]
        }
      ]
    },
    {
      "cell_type": "code",
      "source": [
        "#assign single values to multiple variables\n",
        "\n",
        "a=b=c=100\n",
        "print(a,b,c)"
      ],
      "metadata": {
        "colab": {
          "base_uri": "https://localhost:8080/"
        },
        "id": "fBZtkyj40zCp",
        "outputId": "dcf7ae02-254e-4dcd-97af-50946f2da71a"
      },
      "execution_count": null,
      "outputs": [
        {
          "output_type": "stream",
          "name": "stdout",
          "text": [
            "100 100 100\n"
          ]
        }
      ]
    },
    {
      "cell_type": "code",
      "source": [
        "# variable annonation\n",
        "a: int = 10\n",
        "print(a)\n",
        "\n",
        "print(__annotations__['a'])\n",
        "\n",
        "b: float = 31.3\n",
        "print(b)\n",
        "\n",
        "print(__annotations__['b'])\n",
        "\n",
        "c: str = \"NTT\"\n",
        "print(c)\n",
        "\n",
        "print(__annotations__['c'])\n",
        "\n",
        "a = \"Blr\"\n",
        "\n",
        "print(a)\n"
      ],
      "metadata": {
        "colab": {
          "base_uri": "https://localhost:8080/"
        },
        "id": "WlomgxER1_qa",
        "outputId": "c887b0ec-a9a9-42a1-92c8-b62b5c0ecfaf"
      },
      "execution_count": null,
      "outputs": [
        {
          "output_type": "stream",
          "name": "stdout",
          "text": [
            "10\n",
            "<class 'int'>\n",
            "31.3\n",
            "<class 'float'>\n",
            "NTT\n",
            "<class 'str'>\n",
            "Blr\n"
          ]
        }
      ]
    },
    {
      "cell_type": "code",
      "source": [
        "import keyword\n",
        "\n",
        "print(keyword.kwlist)\n",
        "print(len(keyword.kwlist))\n"
      ],
      "metadata": {
        "colab": {
          "base_uri": "https://localhost:8080/"
        },
        "id": "GcTCfY_L3HN0",
        "outputId": "954476a5-87d4-4be3-ff2e-c444597497b1"
      },
      "execution_count": null,
      "outputs": [
        {
          "output_type": "stream",
          "name": "stdout",
          "text": [
            "['False', 'None', 'True', 'and', 'as', 'assert', 'async', 'await', 'break', 'class', 'continue', 'def', 'del', 'elif', 'else', 'except', 'finally', 'for', 'from', 'global', 'if', 'import', 'in', 'is', 'lambda', 'nonlocal', 'not', 'or', 'pass', 'raise', 'return', 'try', 'while', 'with', 'yield']\n",
            "35\n"
          ]
        }
      ]
    },
    {
      "cell_type": "code",
      "source": [
        "# this section is for commentingqqqqqqqqqqqqqqqqqqqqqqqqqqqqqqqqqqqqqqqqqqqqqqqqqqqqqqqqqqqqqqqqqqqqqqqqqqqqqqqqqqqqqqq\n",
        "#ddddddddddddddddddddddd\n",
        "#ddddddddddddddddddddd"
      ],
      "metadata": {
        "id": "rKKN5Zvc3xpj"
      },
      "execution_count": null,
      "outputs": []
    },
    {
      "cell_type": "code",
      "source": [],
      "metadata": {
        "id": "U8w58-vHnI3d"
      },
      "execution_count": null,
      "outputs": []
    },
    {
      "cell_type": "code",
      "source": [],
      "metadata": {
        "id": "PZlqpK5ynL7Q"
      },
      "execution_count": null,
      "outputs": []
    },
    {
      "cell_type": "code",
      "source": [],
      "metadata": {
        "id": "PTjOc238nOlX"
      },
      "execution_count": null,
      "outputs": []
    },
    {
      "cell_type": "code",
      "source": [
        "# multiline comments\n",
        "\n",
        "\"\"\" efdasdfasdf\n",
        "asdfasdfasdf\n",
        "asdfasdfasdf\n",
        "asdfasfasdfasdfasdfasfd \"\"\"\n",
        "\n",
        "print(\"multiline comment\")"
      ],
      "metadata": {
        "colab": {
          "base_uri": "https://localhost:8080/"
        },
        "id": "wA6IfXeU3_9Y",
        "outputId": "b72d902c-898c-4159-8fae-7639c76e4714"
      },
      "execution_count": null,
      "outputs": [
        {
          "output_type": "stream",
          "name": "stdout",
          "text": [
            "multiline comment\n"
          ]
        }
      ]
    },
    {
      "cell_type": "code",
      "source": [
        "# string\n",
        "\n",
        "s= \"code yug\"\n",
        "\n",
        "print(s[0:3:1])\n",
        "print(s[2:4])"
      ],
      "metadata": {
        "colab": {
          "base_uri": "https://localhost:8080/"
        },
        "id": "oHmrYbaLDSZp",
        "outputId": "77732e31-8673-4b42-8fd1-527d650d5989"
      },
      "execution_count": null,
      "outputs": [
        {
          "output_type": "stream",
          "name": "stdout",
          "text": [
            "cod\n",
            "de\n"
          ]
        }
      ]
    },
    {
      "cell_type": "code",
      "source": [
        "# slicing\n",
        "\n",
        "s = \"bangalore\"\n",
        "\n",
        "print(s[::])"
      ],
      "metadata": {
        "colab": {
          "base_uri": "https://localhost:8080/"
        },
        "id": "5L7WSZC22Yo5",
        "outputId": "b98175f1-36e5-4f6d-b3d6-72048f96bfd7"
      },
      "execution_count": null,
      "outputs": [
        {
          "output_type": "stream",
          "name": "stdout",
          "text": [
            "bangalore\n"
          ]
        }
      ]
    },
    {
      "cell_type": "code",
      "source": [
        "# negative slicing\n",
        "\n",
        "s = \"bangalore\"\n",
        "\n",
        "print(s[-1:-4:-1])\n",
        "print(s[-1:-8:-2])\n",
        "print(s[-2:-6:2])\n",
        "\n",
        "print(s[-1: :-1])"
      ],
      "metadata": {
        "colab": {
          "base_uri": "https://localhost:8080/"
        },
        "id": "rusYStc-JroV",
        "outputId": "d8ef07fc-17f8-4f2b-ab01-83d727b2b922"
      },
      "execution_count": null,
      "outputs": [
        {
          "output_type": "stream",
          "name": "stdout",
          "text": [
            "ero\n",
            "eoan\n",
            "\n",
            "erolagnab\n"
          ]
        }
      ]
    },
    {
      "cell_type": "code",
      "source": [
        "#DAY3\n",
        "#simple if statement\n",
        "if 10>5:\n",
        "    print(\"10 is greater than 5\")\n",
        "    print(\"inside if block\")\n",
        "    print(\"inside if block\")\n",
        "\n",
        "print(\"outside if block\")"
      ],
      "metadata": {
        "id": "r8fUYxUDnRf5",
        "outputId": "5dd58b2d-8c2f-4c2f-c917-94e992ec4943",
        "colab": {
          "base_uri": "https://localhost:8080/"
        }
      },
      "execution_count": null,
      "outputs": [
        {
          "output_type": "stream",
          "name": "stdout",
          "text": [
            "10 is greater than 5\n",
            "inside if block\n",
            "inside if block\n",
            "outside if block\n"
          ]
        }
      ]
    },
    {
      "cell_type": "code",
      "source": [
        "# string is palindrome or not\n",
        "def is_palindrome(text):\n",
        "  processed_text = text\n",
        "  return processed_text == processed_text[::-1]\n",
        "\n",
        "string = input(\"Enter a string: \")\n",
        "print(string[::-1])\n",
        "if is_palindrome(string):\n",
        "  print(f\"'{string}' is a palindrome.\")\n",
        "else:\n",
        "  print(f\"'{string}' is not a palindrome.\")"
      ],
      "metadata": {
        "colab": {
          "base_uri": "https://localhost:8080/"
        },
        "id": "W5Xoh8_SzKGo",
        "outputId": "9ab102b8-96f1-4ad1-e9ca-337bee300b90"
      },
      "execution_count": null,
      "outputs": [
        {
          "output_type": "stream",
          "name": "stdout",
          "text": [
            "Enter a string: soujanya\n",
            "aynajuos\n",
            "'soujanya' is not a palindrome.\n"
          ]
        }
      ]
    },
    {
      "cell_type": "code",
      "source": [
        "# reversing a string\n",
        "def reverse_string(s):\n",
        "  return s[::-1]\n",
        "\n",
        "string = input(\"Enter a string: \")\n",
        "print(reverse_string(string))\n"
      ],
      "metadata": {
        "colab": {
          "base_uri": "https://localhost:8080/"
        },
        "id": "GgveNCbN84Tg",
        "outputId": "748245cd-7912-4fd0-b6e3-9a62e26121b0"
      },
      "execution_count": null,
      "outputs": [
        {
          "output_type": "stream",
          "name": "stdout",
          "text": [
            "Enter a string: mahender\n",
            "redneham\n"
          ]
        }
      ]
    },
    {
      "cell_type": "code",
      "source": [
        "# Nested forloop\n",
        "for i in \"BLR\":\n",
        "  print(\"inner loop\")\n",
        "  for j in [10,30,20]:\n",
        "    print(i,j)\n",
        "    print(\"outer loop\")"
      ],
      "metadata": {
        "id": "eOFk1Xdy0l0Z",
        "outputId": "f03ae13a-6a9b-4f17-930f-b311bd7a56a6",
        "colab": {
          "base_uri": "https://localhost:8080/"
        }
      },
      "execution_count": null,
      "outputs": [
        {
          "output_type": "stream",
          "name": "stdout",
          "text": [
            "inner loop\n",
            "B 10\n",
            "outer loop\n",
            "B 30\n",
            "outer loop\n",
            "B 20\n",
            "outer loop\n",
            "inner loop\n",
            "L 10\n",
            "outer loop\n",
            "L 30\n",
            "outer loop\n",
            "L 20\n",
            "outer loop\n",
            "inner loop\n",
            "R 10\n",
            "outer loop\n",
            "R 30\n",
            "outer loop\n",
            "R 20\n",
            "outer loop\n"
          ]
        }
      ]
    },
    {
      "cell_type": "code",
      "source": [
        "for i in \"bangalore\":\n",
        "  if i == \"g\":\n",
        "    break\n",
        "\n",
        "print(\"End of loop\")"
      ],
      "metadata": {
        "id": "D65D3B9g6yNJ",
        "outputId": "4d60e49d-1be1-4e3f-8d1e-eb4b1827a2ae",
        "colab": {
          "base_uri": "https://localhost:8080/"
        }
      },
      "execution_count": null,
      "outputs": [
        {
          "output_type": "stream",
          "name": "stdout",
          "text": [
            "End of loop\n"
          ]
        }
      ]
    },
    {
      "cell_type": "code",
      "source": [
        "#string deletion\n",
        "s1=\"APPLE\"\n",
        "s1[0]=\"A\""
      ],
      "metadata": {
        "id": "-lLZKbJt_Cma",
        "outputId": "a2553c07-dd81-4feb-d2a8-5e84a72b5707",
        "colab": {
          "base_uri": "https://localhost:8080/",
          "height": 176
        }
      },
      "execution_count": null,
      "outputs": [
        {
          "output_type": "error",
          "ename": "TypeError",
          "evalue": "'str' object does not support item assignment",
          "traceback": [
            "\u001b[0;31m---------------------------------------------------------------------------\u001b[0m",
            "\u001b[0;31mTypeError\u001b[0m                                 Traceback (most recent call last)",
            "\u001b[0;32m<ipython-input-10-19a38e30d1ff>\u001b[0m in \u001b[0;36m<cell line: 0>\u001b[0;34m()\u001b[0m\n\u001b[1;32m      1\u001b[0m \u001b[0;31m#string deletion\u001b[0m\u001b[0;34m\u001b[0m\u001b[0;34m\u001b[0m\u001b[0m\n\u001b[1;32m      2\u001b[0m \u001b[0ms1\u001b[0m\u001b[0;34m=\u001b[0m\u001b[0;34m\"APPLE\"\u001b[0m\u001b[0;34m\u001b[0m\u001b[0;34m\u001b[0m\u001b[0m\n\u001b[0;32m----> 3\u001b[0;31m \u001b[0ms1\u001b[0m\u001b[0;34m[\u001b[0m\u001b[0;36m0\u001b[0m\u001b[0;34m]\u001b[0m\u001b[0;34m=\u001b[0m\u001b[0;34m\"A\"\u001b[0m\u001b[0;34m\u001b[0m\u001b[0;34m\u001b[0m\u001b[0m\n\u001b[0m",
            "\u001b[0;31mTypeError\u001b[0m: 'str' object does not support item assignment"
          ]
        }
      ]
    },
    {
      "cell_type": "code",
      "source": [
        "s1=\"APPLE\"\n",
        "print(len(s1))\n",
        "\n",
        "del s1\n"
      ],
      "metadata": {
        "id": "GSx2DanZ_Wau",
        "outputId": "895b189f-2a2f-4ee1-fea9-6275f65230f4",
        "colab": {
          "base_uri": "https://localhost:8080/"
        }
      },
      "execution_count": null,
      "outputs": [
        {
          "output_type": "stream",
          "name": "stdout",
          "text": [
            "5\n"
          ]
        }
      ]
    },
    {
      "cell_type": "code",
      "source": [
        "mainstring = input(\"enter a main string\")\n",
        "substring = input(\"enter a substring\")\n",
        "if substring in mainstring:\n",
        "  print(\"substring is present\")\n",
        "else:\n",
        "  print(\"substring is not present\")\n"
      ],
      "metadata": {
        "id": "zKREWYzsCUWV",
        "outputId": "a1e4201d-59ec-47ea-8d90-cc9d2e90030e",
        "colab": {
          "base_uri": "https://localhost:8080/"
        }
      },
      "execution_count": null,
      "outputs": [
        {
          "output_type": "stream",
          "name": "stdout",
          "text": [
            "enter a main string9948308412\n",
            "enter a substring99\n",
            "substring is present\n"
          ]
        }
      ]
    },
    {
      "cell_type": "code",
      "source": [
        "mobile_num=input('Enter any mobile no. of user\"s choice')\n",
        "\n",
        "if mobile_num.startswith('+91'):\n",
        "  print(f'{mobile_num} belongs to India !!')\n",
        "elif mobile_num.startswith('+353'):\n",
        "  print(f'{mobile_num} belongs to Ireland !!')\n",
        "\n",
        "else:\n",
        "  print('Invalid choice')\n"
      ],
      "metadata": {
        "id": "RBbrF5BTDRjN",
        "outputId": "c465e795-a4ea-4237-9032-7874bfa6335d",
        "colab": {
          "base_uri": "https://localhost:8080/"
        }
      },
      "execution_count": null,
      "outputs": [
        {
          "output_type": "stream",
          "name": "stdout",
          "text": [
            "Enter any mobile no. of user\"s choice+353675756545\n",
            "+353675756545 belongs to Ireland !!\n"
          ]
        }
      ]
    },
    {
      "cell_type": "code",
      "source": [
        "str=input(\"enter the url\")\n",
        "if str.endswith(\".com\"):\n",
        "  print(\"commercial website\")\n",
        "elif str.endswith(\".edu\"):\n",
        "  print(\"education website\")\n",
        "else:\n",
        "  print(\"invalid\")"
      ],
      "metadata": {
        "id": "3D72f_EFHINg",
        "outputId": "aa2b64c3-338c-45ae-a373-e619d2a6f865",
        "colab": {
          "base_uri": "https://localhost:8080/"
        }
      },
      "execution_count": null,
      "outputs": [
        {
          "output_type": "stream",
          "name": "stdout",
          "text": [
            "enter the url.com\n",
            "commercial website\n"
          ]
        }
      ]
    },
    {
      "cell_type": "code",
      "source": [
        "#lstrip\n",
        "name= input(\"enter the name\")\n",
        "print(name)\n",
        "name = name.lstrip()\n",
        "print(name)"
      ],
      "metadata": {
        "id": "IQqskFxYH8EM",
        "outputId": "f14880fb-ceb0-43d1-be09-4415b47a208a",
        "colab": {
          "base_uri": "https://localhost:8080/"
        }
      },
      "execution_count": null,
      "outputs": [
        {
          "output_type": "stream",
          "name": "stdout",
          "text": [
            "enter the name soujanya\n",
            " soujanya\n",
            "soujanya\n"
          ]
        }
      ]
    },
    {
      "cell_type": "code",
      "source": [
        "url= [\"http://www.mynthra.com\",\"http://www.amazon.com\",\"http://www.gmail.com\"]\n",
        "for i in url:\n",
        "  #i=i.lstrip(\"http://www.\")\n",
        "  i=i.lstrip(\"htp:/w.\")\n",
        "\n",
        "\n",
        "\n",
        "  print(i)"
      ],
      "metadata": {
        "id": "exehORNiJ9LT",
        "outputId": "38354730-cc30-489a-af98-593a59edfe62",
        "colab": {
          "base_uri": "https://localhost:8080/"
        }
      },
      "execution_count": null,
      "outputs": [
        {
          "output_type": "stream",
          "name": "stdout",
          "text": [
            "mynthra.com\n",
            "amazon.com\n",
            "gmail.com\n"
          ]
        }
      ]
    },
    {
      "cell_type": "code",
      "source": [
        "#lstrip\n",
        "\n",
        "l=[\"http://www.myntra.com\",\"http://www.ntt.com\",\"http://www.google.com\"]\n",
        "for i in l:\n",
        "  print(i.lstrip(\"http://www.\"))\n",
        "for j in l:\n",
        "  print(j.lstrip(\"hp:/w.\"))"
      ],
      "metadata": {
        "id": "JNH9n4leLuoB",
        "outputId": "bad50e72-a229-4b9e-e58f-236f38811ea5",
        "colab": {
          "base_uri": "https://localhost:8080/"
        }
      },
      "execution_count": null,
      "outputs": [
        {
          "output_type": "stream",
          "name": "stdout",
          "text": [
            "myntra.com\n",
            "ntt.com\n",
            "google.com\n",
            "ttp://www.myntra.com\n",
            "ttp://www.ntt.com\n",
            "ttp://www.google.com\n"
          ]
        }
      ]
    },
    {
      "cell_type": "code",
      "source": [
        "#strip\n",
        "url= [\"http://www.mynthro.com\",\"http://www.ajio.com\",\"http://www.google.com\"]\n",
        "for i in url:\n",
        "  #i=i.strip(\"http://www.\")\n",
        "  i=i.lstrip(\"http://www.\")\n",
        "  print(i)"
      ],
      "metadata": {
        "id": "xIzMsrJ3OPI_",
        "outputId": "1df64d67-1a76-4c67-ba43-c6bd9dcfd340",
        "colab": {
          "base_uri": "https://localhost:8080/"
        }
      },
      "execution_count": null,
      "outputs": [
        {
          "output_type": "stream",
          "name": "stdout",
          "text": [
            "mynthro.com\n",
            "ajio.com\n",
            "google.com\n"
          ]
        }
      ]
    },
    {
      "cell_type": "code",
      "source": [
        "#coparison of string\n",
        "s1 = \"Apple\"\n",
        "s2 = \"apple\"\n",
        "if s1 == s2:\n",
        "  print(\"equal\")\n",
        "else:\n",
        "  print(\"not equal\")"
      ],
      "metadata": {
        "id": "0eFkLqDGRBML",
        "outputId": "cd1d16e0-1c66-4474-c64d-4df2bdfe4bcd",
        "colab": {
          "base_uri": "https://localhost:8080/"
        }
      },
      "execution_count": null,
      "outputs": [
        {
          "output_type": "stream",
          "name": "stdout",
          "text": [
            "not equal\n"
          ]
        }
      ]
    },
    {
      "cell_type": "code",
      "source": [
        "\n",
        "print(ord('a'))\n",
        "\n",
        "print(ord('A'))"
      ],
      "metadata": {
        "id": "Qc9vl7_cRlMU",
        "outputId": "4056c922-cc34-4a45-a120-fbb60c6ba4b6",
        "colab": {
          "base_uri": "https://localhost:8080/"
        }
      },
      "execution_count": null,
      "outputs": [
        {
          "output_type": "stream",
          "name": "stdout",
          "text": [
            "97\n",
            "65\n"
          ]
        }
      ]
    },
    {
      "cell_type": "code",
      "source": [
        "#replace\n",
        "s = \"apple\"\n",
        "s1= s.replace('p','P',1)\n",
        "print(s1)\n",
        "print(s)"
      ],
      "metadata": {
        "id": "IY6kHtA6SlpW",
        "outputId": "5a1938ca-20fe-4e63-e943-e8aa7ac89ae5",
        "colab": {
          "base_uri": "https://localhost:8080/"
        }
      },
      "execution_count": null,
      "outputs": [
        {
          "output_type": "stream",
          "name": "stdout",
          "text": [
            "aPple\n",
            "apple\n"
          ]
        }
      ]
    },
    {
      "cell_type": "code",
      "source": [
        "#appendloop\n",
        "\n",
        "l1=[10,20,30]\n",
        "\n",
        "i=0\n",
        "\n",
        "while i<5:\n",
        "\n",
        "  l=int(input(\"enternum\"))\n",
        "\n",
        "  l1.append(l)\n",
        "\n",
        "  i=i+1\n",
        "\n",
        "print(l1)"
      ],
      "metadata": {
        "id": "JysBcJEHdh1Y",
        "outputId": "bd51e27f-0a73-43c1-dbb8-4893eadbc4c5",
        "colab": {
          "base_uri": "https://localhost:8080/"
        }
      },
      "execution_count": null,
      "outputs": [
        {
          "output_type": "stream",
          "name": "stdout",
          "text": [
            "enternum40\n",
            "enternum50\n",
            "enternum60\n",
            "enternum70\n",
            "enternum80\n",
            "[10, 20, 30, 40, 50, 60, 70, 80]\n"
          ]
        }
      ]
    },
    {
      "cell_type": "code",
      "source": [
        "# extend\n",
        "l1 = [10,20,30]\n",
        "#l1.extend([40,50,60])\n",
        "#l1.extend((40,50,60))\n",
        "l1.extend(('NTT'))\n",
        "print(l1)"
      ],
      "metadata": {
        "id": "wao5xzNKeZ1x",
        "outputId": "04ae2a66-6bf2-4c06-b476-718834548073",
        "colab": {
          "base_uri": "https://localhost:8080/"
        }
      },
      "execution_count": null,
      "outputs": [
        {
          "output_type": "stream",
          "name": "stdout",
          "text": [
            "[10, 20, 30, 'N', 'T', 'T']\n"
          ]
        }
      ]
    },
    {
      "cell_type": "code",
      "source": [
        "a= [1,2,3]\n",
        "b= [4,5,6]\n",
        "a.extend(b)\n",
        "print(a)"
      ],
      "metadata": {
        "id": "UBeIk6GKfbLW",
        "outputId": "b2554a32-fc13-47f6-8cb5-78715e452afc",
        "colab": {
          "base_uri": "https://localhost:8080/"
        }
      },
      "execution_count": null,
      "outputs": [
        {
          "output_type": "stream",
          "name": "stdout",
          "text": [
            "[1, 2, 3, 4, 5, 6]\n"
          ]
        }
      ]
    },
    {
      "cell_type": "code",
      "source": [
        "a= [1,2,3]\n",
        "b= [4,5,6]\n",
        "b.extend(a)\n",
        "print(b)\n",
        "print(a)"
      ],
      "metadata": {
        "id": "noaFNUg4hcwh",
        "outputId": "c975c3ac-6e1e-4531-ded6-30f56a5a550d",
        "colab": {
          "base_uri": "https://localhost:8080/"
        }
      },
      "execution_count": null,
      "outputs": [
        {
          "output_type": "stream",
          "name": "stdout",
          "text": [
            "[4, 5, 6, 1, 2, 3]\n",
            "[1, 2, 3]\n"
          ]
        }
      ]
    },
    {
      "cell_type": "code",
      "source": [
        "import pandas as pd\n",
        "\n",
        "data = pd.Series([1,2,3],index=['a','b','c'])\n",
        "\n",
        "str1 = data.to_string()\n",
        "print(data)\n",
        "print(type(str1))\n",
        "print(str1)\n"
      ],
      "metadata": {
        "colab": {
          "base_uri": "https://localhost:8080/"
        },
        "id": "KHWJBbm_gXr5",
        "outputId": "409cf6c1-7554-4dfa-9bd5-007bf018b959"
      },
      "execution_count": null,
      "outputs": [
        {
          "output_type": "stream",
          "name": "stdout",
          "text": [
            "a    1\n",
            "b    2\n",
            "c    3\n",
            "dtype: int64\n",
            "<class 'str'>\n",
            "a    1\n",
            "b    2\n",
            "c    3\n"
          ]
        }
      ]
    },
    {
      "cell_type": "code",
      "source": [
        "import pandas as pd\n",
        "s = pd.Series([1,2,3],index=['a','b','c'])\n",
        "\n",
        "data = s.to_frame(name='Numbers')\n",
        "print(data)\n",
        "print(type(data))\n"
      ],
      "metadata": {
        "colab": {
          "base_uri": "https://localhost:8080/"
        },
        "id": "CZzTz1GxiAcC",
        "outputId": "53629cf0-cc98-4a7f-89b5-cfb88fd31659"
      },
      "execution_count": null,
      "outputs": [
        {
          "output_type": "stream",
          "name": "stdout",
          "text": [
            "   Numbers\n",
            "a        1\n",
            "b        2\n",
            "c        3\n",
            "<class 'pandas.core.frame.DataFrame'>\n"
          ]
        }
      ]
    },
    {
      "cell_type": "code",
      "source": [
        "import pandas as pd\n",
        "\n",
        "data = [['John',101],['James',102],['Harry',103]]\n",
        "\n",
        "df = pd.DataFrame(data), columns=['Name','Id'])\n",
        "\n",
        "print(df)\n",
        "print(type(df))\n"
      ],
      "metadata": {
        "colab": {
          "base_uri": "https://localhost:8080/",
          "height": 106
        },
        "id": "0UxrMxvSkmnB",
        "outputId": "405a5a8e-87dd-456c-bb87-5d56fd3e3ece"
      },
      "execution_count": null,
      "outputs": [
        {
          "output_type": "error",
          "ename": "SyntaxError",
          "evalue": "unmatched ')' (<ipython-input-4-63143e5d375a>, line 5)",
          "traceback": [
            "\u001b[0;36m  File \u001b[0;32m\"<ipython-input-4-63143e5d375a>\"\u001b[0;36m, line \u001b[0;32m5\u001b[0m\n\u001b[0;31m    df = pd.DataFrame(data), columns=['Name','Id'])\u001b[0m\n\u001b[0m                                                  ^\u001b[0m\n\u001b[0;31mSyntaxError\u001b[0m\u001b[0;31m:\u001b[0m unmatched ')'\n"
          ]
        }
      ]
    },
    {
      "cell_type": "code",
      "source": [
        "import pandas as pd\n",
        "data = {'Name':['Abc','Bcd','Cde'],'location':['Noida','Gurgaon','Bangalore']}\n",
        "df = pd.DataFrame(data)\n",
        "print(df)\n"
      ],
      "metadata": {
        "colab": {
          "base_uri": "https://localhost:8080/"
        },
        "id": "42JQlla1nkU_",
        "outputId": "00624944-d200-4a8f-e1e0-6e9c4cc22b89"
      },
      "execution_count": null,
      "outputs": [
        {
          "output_type": "stream",
          "name": "stdout",
          "text": [
            "  Name   location\n",
            "0  Abc      Noida\n",
            "1  Bcd    Gurgaon\n",
            "2  Cde  Bangalore\n"
          ]
        }
      ]
    },
    {
      "cell_type": "code",
      "source": [
        "import pandas as pd\n",
        "data =[{'name1':'Ravi','name2':'Jay'},{'name1':'James','name2':'Raj','name3':'Harry'}]\n",
        "df1 = pd.DataFrame(data, index=['First','Second'],columns=['name1','name2'])\n",
        "print(df1)\n",
        "df2 = pd.DataFrame(data, index=['First','Third'],columns=['name1','name3'])\n",
        "print(df2)\n",
        "df3 = pd.DataFrame(data, index=['Three','Four'],columns=['name3','name4'])\n",
        "print(df3)\n"
      ],
      "metadata": {
        "colab": {
          "base_uri": "https://localhost:8080/"
        },
        "id": "M4HXuYEOpclK",
        "outputId": "8275e85e-9f84-4af2-a782-c10adfcad3b4"
      },
      "execution_count": null,
      "outputs": [
        {
          "output_type": "stream",
          "name": "stdout",
          "text": [
            "        name1 name2\n",
            "First    Ravi   Jay\n",
            "Second  James   Raj\n",
            "       name1  name3\n",
            "First   Ravi    NaN\n",
            "Third  James  Harry\n",
            "       name3  name4\n",
            "Three    NaN    NaN\n",
            "Four   Harry    NaN\n"
          ]
        }
      ]
    },
    {
      "cell_type": "code",
      "source": [
        "import pandas as pd\n",
        "data = {'Name':['Jai','Ram','Raj'],\n",
        "        'Id':[101,102,123],\n",
        "        'address':['Noida','Gurgaon','Bangalore'],\n",
        "        'Experience':[1.2,5.0,5.6]}\n",
        "df = pd.DataFrame(data)\n",
        "print(df[['Name','Id','Experience']])\n"
      ],
      "metadata": {
        "colab": {
          "base_uri": "https://localhost:8080/"
        },
        "id": "bUg3-ZDrrv82",
        "outputId": "bb7f43dd-6e09-4c0c-bf21-f28d3c0e0b6d"
      },
      "execution_count": null,
      "outputs": [
        {
          "output_type": "stream",
          "name": "stdout",
          "text": [
            "  Name   Id  Experience\n",
            "0  Jai  101         1.2\n",
            "1  Ram  102         5.0\n",
            "2  Raj  123         5.6\n"
          ]
        }
      ]
    },
    {
      "cell_type": "code",
      "source": [
        "import pandas as pd\n",
        "s = {'one':pd.Series([1,2,3],index=['a','b','c']),\n",
        "     'two':pd.Series([1,2,3,4],index=['a','b','c','d'])}\n",
        "print(s)\n",
        "df = pd.DataFrame(s)\n",
        "print(df)\n",
        "#print(df[['one','two']])\n"
      ],
      "metadata": {
        "colab": {
          "base_uri": "https://localhost:8080/"
        },
        "id": "YtWf98NAuP27",
        "outputId": "0a01e8fd-3567-4789-da70-08e75608708b"
      },
      "execution_count": null,
      "outputs": [
        {
          "output_type": "stream",
          "name": "stdout",
          "text": [
            "{'one': a    1\n",
            "b    2\n",
            "c    3\n",
            "dtype: int64, 'two': a    1\n",
            "b    2\n",
            "c    3\n",
            "d    4\n",
            "dtype: int64}\n",
            "   one  two\n",
            "a  1.0    1\n",
            "b  2.0    2\n",
            "c  3.0    3\n",
            "d  NaN    4\n"
          ]
        }
      ]
    },
    {
      "cell_type": "code",
      "source": [
        "import pandas as pd\n",
        "\n",
        "df= pd.DataFrame([['abc','bcd'],['cde','def'],['efg','fgh'],['ghi','hij']],columns=['col1','col2'])\n",
        "\n",
        "print(\"Data Frame : \", df)\n",
        "\n",
        "# row based sliceing\n",
        "\n",
        "res = df.iloc[1:3,:]\n",
        "print('After slicing the data')\n",
        "print(res)\n"
      ],
      "metadata": {
        "colab": {
          "base_uri": "https://localhost:8080/"
        },
        "id": "84niutxSbLVJ",
        "outputId": "9b4d09fc-f0dc-4cc9-b54b-aef1ccb3f4f0"
      },
      "execution_count": null,
      "outputs": [
        {
          "output_type": "stream",
          "name": "stdout",
          "text": [
            "Data Frame :    col1 col2\n",
            "0  abc  bcd\n",
            "1  cde  def\n",
            "2  efg  fgh\n",
            "3  ghi  hij\n",
            "After slicing the data\n",
            "  col1 col2\n",
            "1  cde  def\n",
            "2  efg  fgh\n"
          ]
        }
      ]
    },
    {
      "cell_type": "code",
      "source": [
        "import pandas as pd\n",
        "data={'First':[1,2,3],'Second':[4,5,6],'Third':[7,8,9]}\n",
        "df = pd.DataFrame(data)\n",
        "sl1 = df.iloc[:,0]\n",
        "print('single column slice')\n",
        "print(sl1)\n",
        "\n",
        "sl2 = df.iloc[:,0:1]\n",
        "print('single column slice')\n",
        "print(sl2)\n",
        "\n",
        "sl3 = df.iloc[:,0]\n",
        "print('single column slice')\n",
        "print(sl3)\n",
        "\n",
        "sl4 = df.iloc[:,0:3]\n",
        "print('slicing more than 1 column')\n",
        "print(sl4)\n"
      ],
      "metadata": {
        "colab": {
          "base_uri": "https://localhost:8080/"
        },
        "id": "l155pcUTcfjG",
        "outputId": "9ba5eb85-0be7-45b1-cad7-ebedccb725e0"
      },
      "execution_count": null,
      "outputs": [
        {
          "output_type": "stream",
          "name": "stdout",
          "text": [
            "single column slice\n",
            "0    1\n",
            "1    2\n",
            "2    3\n",
            "Name: First, dtype: int64\n",
            "slicing more than 1 column\n",
            "   First  Second  Third\n",
            "0      1       4      7\n",
            "1      2       5      8\n",
            "2      3       6      9\n"
          ]
        }
      ]
    },
    {
      "cell_type": "code",
      "source": [
        "class Calculator:\n",
        "  def __init__(self, num1, num2):\n",
        "    self.num1 = 0\n",
        "    self.num2 = 0\n",
        "    self.res =0\n",
        "  def input_data(self):\n",
        "    self.num1 = int(input(\"enter first number\"))\n",
        "    self.num2 = int(input(\"enter second number\"))\n",
        "\n",
        "  def add(self):\n",
        "    self.res = self.num1 + self.num2\n",
        "    print(self.res)\n",
        "  def sub(self):\n",
        "    self.res = self.num1 - self.num2\n",
        "    print(self.res)\n",
        "\n",
        "  def mul(self):\n",
        "    self.res = self.num1 * self.num2\n",
        "    print(self.res)\n",
        "\n",
        "  def div(self):\n",
        "    self.res = self.num1 / self.num2\n",
        "    print(self.res)\n",
        "\n",
        "obj1 = Calculator()\n",
        "obj1.input_data()\n",
        "\n",
        "obj1.add()\n",
        "obj1.sub()\n",
        "obj1.mul()\n",
        "obj1.div()\n",
        "\n",
        "\n"
      ],
      "metadata": {
        "id": "lRIa8PIoqUYq",
        "outputId": "bad9be78-4a64-4e26-f62c-84f0a898d173",
        "colab": {
          "base_uri": "https://localhost:8080/",
          "height": 211
        }
      },
      "execution_count": 7,
      "outputs": [
        {
          "output_type": "error",
          "ename": "TypeError",
          "evalue": "Calculator.__init__() missing 2 required positional arguments: 'num1' and 'num2'",
          "traceback": [
            "\u001b[0;31m---------------------------------------------------------------------------\u001b[0m",
            "\u001b[0;31mTypeError\u001b[0m                                 Traceback (most recent call last)",
            "\u001b[0;32m<ipython-input-7-d94dc7b1777c>\u001b[0m in \u001b[0;36m<cell line: 0>\u001b[0;34m()\u001b[0m\n\u001b[1;32m     23\u001b[0m     \u001b[0mprint\u001b[0m\u001b[0;34m(\u001b[0m\u001b[0mself\u001b[0m\u001b[0;34m.\u001b[0m\u001b[0mres\u001b[0m\u001b[0;34m)\u001b[0m\u001b[0;34m\u001b[0m\u001b[0;34m\u001b[0m\u001b[0m\n\u001b[1;32m     24\u001b[0m \u001b[0;34m\u001b[0m\u001b[0m\n\u001b[0;32m---> 25\u001b[0;31m \u001b[0mobj1\u001b[0m \u001b[0;34m=\u001b[0m \u001b[0mCalculator\u001b[0m\u001b[0;34m(\u001b[0m\u001b[0;34m)\u001b[0m\u001b[0;34m\u001b[0m\u001b[0;34m\u001b[0m\u001b[0m\n\u001b[0m\u001b[1;32m     26\u001b[0m \u001b[0mobj1\u001b[0m\u001b[0;34m.\u001b[0m\u001b[0minput_data\u001b[0m\u001b[0;34m(\u001b[0m\u001b[0;34m)\u001b[0m\u001b[0;34m\u001b[0m\u001b[0;34m\u001b[0m\u001b[0m\n\u001b[1;32m     27\u001b[0m \u001b[0;34m\u001b[0m\u001b[0m\n",
            "\u001b[0;31mTypeError\u001b[0m: Calculator.__init__() missing 2 required positional arguments: 'num1' and 'num2'"
          ]
        }
      ]
    },
    {
      "cell_type": "code",
      "source": [
        "class Employee:\n",
        "  def __init__(self):\n",
        "    self.name = ''\n",
        "    self.empid = 0\n",
        "    self.dept = ''\n",
        "    self.salary = 0\n",
        "    self.bonus = 20\n",
        "    self.total_salary = 0\n",
        "\n",
        "  def read_input(self):\n",
        "    self.name = input(\"Enter employee name :\")\n",
        "    self.empid = int(input(\"Enter employee id :\"))\n",
        "    self.dept = input(\"Enter employee department :\")\n",
        "    self.salary = int(input(\"Enter employee salary :\"))\n",
        "\n",
        "  def calculate_salary(self):\n",
        "    self.total_salary = self.salary + self.bonus\n",
        "\n",
        "  def display_details(self):\n",
        "    print('Employee Name:', self.name, ', Employee ID:', self.empid, '\\nDepartment:', self.dept, ', Salary:', self.salary, ', Bonus:', self.bonus, ', Total Salary:', self.total_salary)\n",
        "\n",
        "e1 = Employee()\n",
        "e1.read_input()\n",
        "e1.calculate_salary()\n",
        "e1.display_details()"
      ],
      "metadata": {
        "id": "9vS0C2d03ZyX",
        "outputId": "8f948eb0-ec8c-477a-c540-f080fcd31c9d",
        "colab": {
          "base_uri": "https://localhost:8080/"
        }
      },
      "execution_count": 9,
      "outputs": [
        {
          "output_type": "stream",
          "name": "stdout",
          "text": [
            "Enter employee name :soujanya\n",
            "Enter employee id :319\n",
            "Enter employee department :dev\n",
            "Enter employee salary :400000\n",
            "Employee Name: soujanya , Employee ID: 319 \n",
            "Department: dev , Salary: 400000 , Bonus: 20 , Total Salary: 400020\n"
          ]
        }
      ]
    },
    {
      "cell_type": "code",
      "source": [
        "# Parameterized constructor\n",
        "\n",
        "class Employee:\n",
        "\n",
        "  def __init__(self,name,id,dept,bsal):\n",
        "    self.emp_name = name\n",
        "    self.emp_id = id\n",
        "    self.emp_dept = dept\n",
        "    self.bsal = bsal\n",
        "    self.bonus = 20\n",
        "    self.fsal = 0\n",
        "\n",
        "  def cal_sal(self):\n",
        "    self.fsal = self.bsal + (self.bsal*self.bonus/100)\n",
        "\n",
        "  def output_data(self):\n",
        "    print('Name: ',self.emp_name)\n",
        "    print('Id: ',self.emp_id)\n",
        "    print('Dept: ',self.emp_dept)\n",
        "    print('Total Salary: ',self.fsal)\n",
        "\n",
        "e1 = Employee('Ria',101,'Tech',10000)\n",
        "e1.cal_sal()\n",
        "e1.output_data()"
      ],
      "metadata": {
        "id": "9jatHmZm5glV",
        "outputId": "10b1278a-1609-46d3-a10c-011b39e96bba",
        "colab": {
          "base_uri": "https://localhost:8080/"
        }
      },
      "execution_count": 10,
      "outputs": [
        {
          "output_type": "stream",
          "name": "stdout",
          "text": [
            "Name:  Ria\n",
            "Id:  101\n",
            "Dept:  Tech\n",
            "Total Salary:  12000.0\n"
          ]
        }
      ]
    }
  ]
}