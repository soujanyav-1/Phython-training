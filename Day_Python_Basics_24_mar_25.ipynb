{
  "nbformat": 4,
  "nbformat_minor": 0,
  "metadata": {
    "colab": {
      "provenance": []
    },
    "kernelspec": {
      "name": "python3",
      "display_name": "Python 3"
    },
    "language_info": {
      "name": "python"
    }
  },
  "cells": [
    {
      "cell_type": "code",
      "execution_count": null,
      "metadata": {
        "id": "lajyy_F508A7"
      },
      "outputs": [],
      "source": [
        "a = 10\n",
        "print(a)\n",
        "print(\"a=\",id(a))\n",
        "\n",
        "b=10\n",
        "print(b)\n",
        "print(\"b=\",id(b))\n",
        "\n",
        "c=a\n",
        "print(c)\n",
        "print(\"c=\",id(c))"
      ]
    },
    {
      "cell_type": "code",
      "source": [],
      "metadata": {
        "id": "75ErTXh1jGvn"
      },
      "execution_count": null,
      "outputs": []
    },
    {
      "cell_type": "code",
      "source": [
        "# dynamic programming\n",
        "\n",
        "a=10\n",
        "print(a)\n",
        "print(id(a))\n",
        "\n",
        "a = 3.14\n",
        "print(a)\n",
        "print(id(a))\n",
        "\n",
        "a =\"NTT\"\n",
        "print(a)\n",
        "print(id(a))"
      ],
      "metadata": {
        "id": "-i-0aiML1_Jc"
      },
      "execution_count": null,
      "outputs": []
    },
    {
      "cell_type": "code",
      "source": [
        "# deleting a variable\n",
        "\n",
        "a = 20\n",
        "print(a)\n",
        "del a\n",
        "print(a)"
      ],
      "metadata": {
        "id": "cdS8o4-f1_XP"
      },
      "execution_count": null,
      "outputs": []
    },
    {
      "cell_type": "code",
      "source": [
        "# creating multiple variables\n",
        "\n",
        "a,b,c = 10 , 3.14 , \"NTT\"\n",
        "print(a,b,c)"
      ],
      "metadata": {
        "id": "-Tcxwt2z1_hN"
      },
      "execution_count": null,
      "outputs": []
    },
    {
      "cell_type": "code",
      "source": [
        "#assign single values to multiple variables\n",
        "\n",
        "a=b=c=100\n",
        "print(a,b,c)"
      ],
      "metadata": {
        "id": "fBZtkyj40zCp"
      },
      "execution_count": null,
      "outputs": []
    },
    {
      "cell_type": "code",
      "source": [
        "# variable annonation\n",
        "a: int = 10\n",
        "print(a)\n",
        "\n",
        "print(__annotations__['a'])\n",
        "\n",
        "b: float = 31.3\n",
        "print(b)\n",
        "\n",
        "print(__annotations__['b'])\n",
        "\n",
        "c: str = \"NTT\"\n",
        "print(c)\n",
        "\n",
        "print(__annotations__['c'])\n",
        "\n",
        "a = \"Blr\"\n",
        "\n",
        "print(a)\n"
      ],
      "metadata": {
        "id": "WlomgxER1_qa"
      },
      "execution_count": null,
      "outputs": []
    },
    {
      "cell_type": "code",
      "source": [
        "import keyword\n",
        "\n",
        "print(keyword.kwlist)\n",
        "print(len(keyword.kwlist))\n"
      ],
      "metadata": {
        "id": "GcTCfY_L3HN0"
      },
      "execution_count": null,
      "outputs": []
    },
    {
      "cell_type": "code",
      "source": [
        "# this section is for commentingqqqqqqqqqqqqqqqqqqqqqqqqqqqqqqqqqqqqqqqqqqqqqqqqqqqqqqqqqqqqqqqqqqqqqqqqqqqqqqqqqqqqqqq\n",
        "#ddddddddddddddddddddddd\n",
        "#ddddddddddddddddddddd"
      ],
      "metadata": {
        "id": "rKKN5Zvc3xpj"
      },
      "execution_count": null,
      "outputs": []
    },
    {
      "cell_type": "code",
      "source": [
        "# multiline comments\n",
        "\n",
        "\"\"\" efdasdfasdf\n",
        "asdfasdfasdf\n",
        "asdfasdfasdf\n",
        "asdfasfasdfasdfasdfasfd \"\"\"\n",
        "\n",
        "print(\"multiline comment\")"
      ],
      "metadata": {
        "id": "wA6IfXeU3_9Y"
      },
      "execution_count": null,
      "outputs": []
    },
    {
      "cell_type": "code",
      "source": [
        "# string\n",
        "\n",
        "s= \"code yug\"\n",
        "\n",
        "print(s[0:3:1])\n",
        "print(s[2:4])"
      ],
      "metadata": {
        "id": "oHmrYbaLDSZp"
      },
      "execution_count": null,
      "outputs": []
    },
    {
      "cell_type": "code",
      "source": [
        "# slicing\n",
        "\n",
        "s = \"bangalore\"\n",
        "\n",
        "print(s[::])"
      ],
      "metadata": {
        "id": "5L7WSZC22Yo5"
      },
      "execution_count": null,
      "outputs": []
    },
    {
      "cell_type": "code",
      "source": [
        "# negative slicing\n",
        "\n",
        "s = \"bangalore\"\n",
        "\n",
        "print(s[-1:-4:-1])\n",
        "print(s[-1:-8:-2])\n",
        "print(s[-2:-6:2])\n",
        "\n",
        "print(s[-1: :-1])"
      ],
      "metadata": {
        "id": "rusYStc-JroV"
      },
      "execution_count": null,
      "outputs": []
    },
    {
      "cell_type": "code",
      "source": [
        "s = \"bangalore\"\n",
        "\n",
        "print(s[20])"
      ],
      "metadata": {
        "id": "L06QYEpYj5fl"
      },
      "execution_count": null,
      "outputs": []
    },
    {
      "cell_type": "code",
      "source": [
        "#day3\n",
        "\n",
        "# simple if statement\n",
        "\n",
        "if 10>5:\n",
        "  print(\"10 is greater than 5\")\n",
        "  print(\" i am inside if bloxk\")\n",
        "  print(\"still i am inside if block\")\n",
        "  print(\"i am outside if block\")\n",
        "\n",
        "\n"
      ],
      "metadata": {
        "id": "aQPj2ZpPnBSz"
      },
      "execution_count": null,
      "outputs": []
    },
    {
      "cell_type": "code",
      "source": [
        "# input statement\n",
        "\n",
        "name = input(\" enter your name\")\n",
        "print(\"your name is\",name)"
      ],
      "metadata": {
        "id": "NUkgm-ZEpONZ"
      },
      "execution_count": null,
      "outputs": []
    },
    {
      "cell_type": "code",
      "source": [
        "no1 = int(input(\" enter the first no\"))\n",
        "no2 = int(input(\"enter the 2nd number\"))\n",
        "\n",
        "if no1 > no2:\n",
        "  print(\"no1 is greater\")"
      ],
      "metadata": {
        "id": "0z04YVjopnJl"
      },
      "execution_count": null,
      "outputs": []
    },
    {
      "cell_type": "code",
      "source": [],
      "metadata": {
        "id": "lG6Li2Ftrq7X"
      },
      "execution_count": null,
      "outputs": []
    },
    {
      "cell_type": "code",
      "source": [
        "no1 = float(input(\" enter the first no\"))\n",
        "no2 = float(input(\"enter the 2nd number\"))\n",
        "print(no1+no2)"
      ],
      "metadata": {
        "id": "Hl_L-nkyqPy_"
      },
      "execution_count": null,
      "outputs": []
    },
    {
      "cell_type": "code",
      "source": [
        "age = int(input(\"enter your age\"))\n",
        "\n",
        "if age >= 18 :\n",
        "  print(\"welcome to vote\")\n",
        "  print(\"you can vote\")\n",
        "else:\n",
        "  print(\"you cannot vote\")\n",
        "\n",
        "print(\"Thank you\")"
      ],
      "metadata": {
        "id": "jjrgKcBIrrq3"
      },
      "execution_count": null,
      "outputs": []
    },
    {
      "cell_type": "code",
      "source": [
        "a = int ( input(\"enter a no\"))\n",
        "\n",
        "if a % 2 == 0 :\n",
        "  print(\" even no\")\n",
        "else:\n",
        "  print(\"odd\")"
      ],
      "metadata": {
        "id": "2jcUq4Twtl5j"
      },
      "execution_count": null,
      "outputs": []
    },
    {
      "cell_type": "code",
      "source": [
        "#  if elif else\n",
        "\n",
        "grade = int(input(\"enter your score\"))\n",
        "\n",
        "if grade >= 90:\n",
        "  print(\"A grade\")\n",
        "elif grade >= 80:\n",
        "  print(\"B grade\")\n",
        "elif grade >= 70:\n",
        "  print(\"c grade\")\n",
        "\n",
        "else:\n",
        "  print(\"fail\")"
      ],
      "metadata": {
        "id": "lUcg0Z8ouoqU"
      },
      "execution_count": null,
      "outputs": []
    },
    {
      "cell_type": "code",
      "source": [
        "# nested if\n",
        "\n",
        "num = int(input(\"enetr a no\"))\n",
        "\n",
        "if num > 0 :\n",
        "  print(\"numer is a positive number\")\n",
        "  if num%2 == 0:\n",
        "    print(\"number is even\")\n",
        "  else:\n",
        "    print(\"number is odd\")\n",
        "else:\n",
        "  print(\"negative number\")"
      ],
      "metadata": {
        "id": "tbIG9hxI0GBq"
      },
      "execution_count": null,
      "outputs": []
    },
    {
      "cell_type": "code",
      "source": [
        "# while loop\n",
        "\n",
        "i=2\n",
        "\n",
        "while i<=5:\n",
        "  print(i)\n",
        "  i =i+1"
      ],
      "metadata": {
        "id": "APudCtvx2aVW"
      },
      "execution_count": null,
      "outputs": []
    },
    {
      "cell_type": "code",
      "source": [
        "# multiplication table\n",
        "\n",
        "num = int(input(\"enter the table no\"))\n",
        "\n",
        "i=1\n",
        "\n",
        "while i <=10:\n",
        "  print(i*num)\n",
        "  i=i+1"
      ],
      "metadata": {
        "id": "TsNYw6rX3Gus"
      },
      "execution_count": null,
      "outputs": []
    },
    {
      "cell_type": "code",
      "source": [
        "i= 1\n",
        "while i <= 100:\n",
        "  print(i)\n",
        "  i+=2\n"
      ],
      "metadata": {
        "id": "gTq0vuiV4Zq8"
      },
      "execution_count": null,
      "outputs": []
    },
    {
      "cell_type": "code",
      "source": [
        "# for loop\n",
        "\n",
        "for i in \"Good\" :\n",
        "  print(\"Ntt data\")"
      ],
      "metadata": {
        "id": "vMFoVxn_5clH"
      },
      "execution_count": null,
      "outputs": []
    },
    {
      "cell_type": "code",
      "source": [
        "v = ['a','e','i','o','u']\n",
        "\n",
        "st = \"bAngalOre\".lower()\n",
        "print(st)\n",
        "counter= 0\n",
        "\n",
        "for i in \"bangalore\":\n",
        "  if i in v:\n",
        "    counter = counter + 1\n",
        "\n",
        "print(counter)\n"
      ],
      "metadata": {
        "id": "wqKvSvLf7Frf"
      },
      "execution_count": null,
      "outputs": []
    },
    {
      "cell_type": "code",
      "source": [
        "#nested for loop\n",
        "for i in \"BLR\":\n",
        "  print(\"outer loop\")\n",
        "  for j in [10,20,30]:\n",
        "    print(\"inner loop\")\n",
        "    print(i,j)"
      ],
      "metadata": {
        "id": "SwPZbuv-0gZi"
      },
      "execution_count": null,
      "outputs": []
    },
    {
      "cell_type": "code",
      "source": [
        "# reverse a string using slicing\n",
        "\n",
        "str = input( \"enter a string\")\n",
        "rev = str[::-1]\n",
        "\n",
        "if str == rev:\n",
        "  print(\"palindrome\")\n",
        "else:\n",
        "  print(\"not a pali\")\n"
      ],
      "metadata": {
        "id": "cUkuTK6r2foV"
      },
      "execution_count": null,
      "outputs": []
    },
    {
      "cell_type": "code",
      "source": [
        "for i in \"bangalore\":\n",
        "  print(i)\n",
        "  if i == 'g':\n",
        "    break\n",
        "\n",
        "\n",
        "print(\"end of for loop\")\n",
        "\n"
      ],
      "metadata": {
        "id": "36UEbZRQ6O6j"
      },
      "execution_count": null,
      "outputs": []
    },
    {
      "cell_type": "code",
      "source": [
        "s1 = \"apple\"\n",
        "s2 = \"banana\"\n",
        "print(s1+s2)\n",
        "print(s1*3)"
      ],
      "metadata": {
        "id": "ub1srlAW9WxG"
      },
      "execution_count": null,
      "outputs": []
    },
    {
      "cell_type": "code",
      "source": [
        "# string is immutable\n",
        "\n",
        "s1 = \"apple\"\n",
        "s1[0]= \"A\"\n",
        "print(s1)"
      ],
      "metadata": {
        "id": "Hb53Jfcy9sa2"
      },
      "execution_count": null,
      "outputs": []
    },
    {
      "cell_type": "code",
      "source": [
        "#string deletion\n",
        "s1= \"apple\"\n",
        "print(s1)\n",
        "del s1\n",
        "print(s1)"
      ],
      "metadata": {
        "id": "y9h5GzbT-MKI"
      },
      "execution_count": null,
      "outputs": []
    },
    {
      "cell_type": "code",
      "source": [
        "# length of the string\n",
        "s1 = input(\"enter the string\")\n",
        "print(len(s1))"
      ],
      "metadata": {
        "id": "EkLWef9u-6w2"
      },
      "execution_count": null,
      "outputs": []
    },
    {
      "cell_type": "code",
      "source": [
        "#count method\n",
        "s1 = \"My name is khan and khan\"\n",
        "c = s1.count(\"khan\",15,)\n",
        "print(c)"
      ],
      "metadata": {
        "id": "MXViqJhU_6kR"
      },
      "execution_count": null,
      "outputs": []
    },
    {
      "cell_type": "code",
      "source": [
        "#startswith\n",
        "mainstring = input(\"enter the main string\")\n",
        "substring = input(\"enter the substring\")\n",
        "\n",
        "if mainstring.startswith(substring):\n",
        "  print(\"yes\")\n",
        "else:\n",
        "  print(\"no\")\n"
      ],
      "metadata": {
        "id": "6b0kcliNBUP-"
      },
      "execution_count": null,
      "outputs": []
    },
    {
      "cell_type": "code",
      "source": [
        "str=input(\"Enter a number: \")\n",
        "if str.startswith(\"92\"):\n",
        "  print(\"Pak\")\n",
        "elif str.startswith(\"91\"):\n",
        "  print(\"India\")\n",
        "elif str.startswith(\"1\"):\n",
        "  print(\"USA\")\n",
        "elif str.startswith(\"3\"):\n",
        "  print(\"uk\")\n",
        "else:\n",
        "  print(\"Number is invalid\")"
      ],
      "metadata": {
        "id": "3KQnIbC7F7TW"
      },
      "execution_count": null,
      "outputs": []
    },
    {
      "cell_type": "code",
      "source": [
        "str=input(\"enter the url\")\n",
        "if str.endswith(\".com\"):\n",
        "  print(\"commercial website\")\n",
        "elif str.endswith(\".edu\"):\n",
        "  print(\"education website\")\n",
        "else:\n",
        "  print(\"invalid\")"
      ],
      "metadata": {
        "id": "DQ28qxthG_5x"
      },
      "execution_count": null,
      "outputs": []
    },
    {
      "cell_type": "code",
      "source": [
        "# lstrip\n",
        "\n",
        "name = input(\"Enter your name\")\n",
        "print(name)\n",
        "\n",
        "name = name.lstrip(\n",
        ")\n",
        "print(name)"
      ],
      "metadata": {
        "id": "oJwD_u6_H4bQ"
      },
      "execution_count": null,
      "outputs": []
    },
    {
      "cell_type": "code",
      "source": [
        "url = [\"http://www.myntra.com\",\"http://www.ajio.com\",\"http://www.cricbuzz.com\"]\n",
        "\n",
        "for i in url:\n",
        "  #i = i.lstrip(\"http://www.\")\n",
        "  #i = i.lstrip(\"htp:/w.\")\n",
        "  i= i.lstrip(\".tbckhrp/w\")\n",
        "  print(i)"
      ],
      "metadata": {
        "id": "PkV95_7vIZ17"
      },
      "execution_count": null,
      "outputs": []
    },
    {
      "cell_type": "code",
      "source": [
        "url = [\"http://www.myntra.com\",\"http://www.ajio.com\",\"http://www.cricbuzz.com\"]\n",
        "for i in url:\n",
        "  i= i.lstrip(\"zyth:/w\")\n",
        "  print(i)\n",
        "\n"
      ],
      "metadata": {
        "id": "xBVNGfWnFhFa"
      },
      "execution_count": null,
      "outputs": []
    },
    {
      "cell_type": "code",
      "source": [
        "url = [\"http://www.myntra.com\",\"http://www.ajio.com\",\"http://www.cricbuzz.com\"]\n",
        "\n",
        "for i in url:\n",
        "  #i = i.lstrip(\"http://www.\")\n",
        "  #i = i.lstrip(\"htp:/w.\")\n",
        "  i= i.lstrip(\"wwhtp/w.\")\n",
        "  print(i)"
      ],
      "metadata": {
        "id": "Oq5mj5zTKpjc"
      },
      "execution_count": null,
      "outputs": []
    },
    {
      "cell_type": "code",
      "source": [
        "\n",
        "l=[\"http://www.myntra.com\",\"http://www.ntt.com\",\"http://www.google.com\"]\n",
        "\n",
        "for j in l:\n",
        "  print(j.lstrip(\"htp:/w.\"))\n"
      ],
      "metadata": {
        "id": "7NjUUtVsLRVC"
      },
      "execution_count": null,
      "outputs": []
    },
    {
      "cell_type": "code",
      "source": [
        "# strip\n",
        "url=[\"http://www.myntra.com\",\"http://www.ajio.com\",\"http://www.google.com\"]\n",
        "\n",
        "for i in url:\n",
        "  i = i.strip('htp.com')\n",
        "  print(i)\n",
        "\n"
      ],
      "metadata": {
        "id": "66GLecJtMm1C"
      },
      "execution_count": null,
      "outputs": []
    },
    {
      "cell_type": "code",
      "source": [
        "s1 = \"Apple\"\n",
        "\n",
        "s2 = \"apple\"\n",
        "\n",
        "if s1 != s2:\n",
        "  print(\"same\")\n",
        "else:\n",
        "  print(\"not same\")"
      ],
      "metadata": {
        "id": "h6gaQqM6QkLS"
      },
      "execution_count": null,
      "outputs": []
    },
    {
      "cell_type": "code",
      "source": [
        "print(ord('a'))\n",
        "\n",
        "print(ord('A'))\n",
        "\n"
      ],
      "metadata": {
        "id": "d73az0ZOQ5VQ"
      },
      "execution_count": null,
      "outputs": []
    },
    {
      "cell_type": "code",
      "source": [
        "# replace\n",
        "\n",
        "s = \"apple\"\n",
        "\n",
        "s1 =s.replace('p','P',1)\n",
        "print(s1)\n",
        "print(s)"
      ],
      "metadata": {
        "id": "NYEmSaZkSg0A"
      },
      "execution_count": null,
      "outputs": []
    },
    {
      "cell_type": "code",
      "source": [
        "#Split\n",
        "\n",
        "s= \"i live in bangalore since 2002\"\n",
        "s.split(' ' ,3)"
      ],
      "metadata": {
        "id": "Y3Hyby53Ip8d"
      },
      "execution_count": null,
      "outputs": []
    },
    {
      "cell_type": "code",
      "source": [
        "# List\n",
        "\n",
        "l = [10,20,30,1.1,'NTT']\n",
        "print(l)\n",
        "print(type(l))"
      ],
      "metadata": {
        "id": "mXIDooe-O-NX"
      },
      "execution_count": null,
      "outputs": []
    },
    {
      "cell_type": "code",
      "source": [
        "# list indexing\n",
        "\n",
        "l1 = [10,20.3,3.15,\"NTT\",[1,2,3]]\n",
        "print(l1[1])\n",
        "print(l1[-1])\n",
        "print(l1[-2])\n",
        "\n",
        "print(l1[4][2])"
      ],
      "metadata": {
        "id": "WvU7c5aUQsT3"
      },
      "execution_count": null,
      "outputs": []
    },
    {
      "cell_type": "code",
      "source": [
        "# list slicing\n",
        "\n",
        "l1 = [10,20.3,3.15,\"NTT\",[1,2,3]]\n",
        "\n",
        "print(l1[::-1])"
      ],
      "metadata": {
        "id": "atJktOCpRiuw"
      },
      "execution_count": null,
      "outputs": []
    },
    {
      "cell_type": "code",
      "source": [
        "# concatenation of list\n",
        "\n",
        "l1 =[10,20]\n",
        "l2 = [40,50,60]\n",
        "l3 = l2+l1\n",
        "print(l3)"
      ],
      "metadata": {
        "id": "A4evIa1ySa0R"
      },
      "execution_count": null,
      "outputs": []
    },
    {
      "cell_type": "code",
      "source": [
        "# multiplication of list\n",
        "\n",
        "l1 =[10,20,30]\n",
        "\n",
        "print(l1*3)"
      ],
      "metadata": {
        "id": "CZzm6NYcS_7e"
      },
      "execution_count": null,
      "outputs": []
    },
    {
      "cell_type": "code",
      "source": [
        "# list iteration\n",
        "\n",
        "l1 = [10,20,39,40]\n",
        "\n",
        "for i in l1:\n",
        "  print(i+1)"
      ],
      "metadata": {
        "id": "ijT649CsTfu4"
      },
      "execution_count": null,
      "outputs": []
    },
    {
      "cell_type": "code",
      "source": [
        "# list membership\n",
        "\n",
        "l1 = [10,20,30,40]\n",
        "\n",
        "print('10' in l1)"
      ],
      "metadata": {
        "id": "HqYbrGFaT4iS"
      },
      "execution_count": null,
      "outputs": []
    },
    {
      "cell_type": "code",
      "source": [
        "# list deletion\n",
        "\n",
        "l1 = [10,20,30,40]\n",
        "\n",
        "print(l1)\n",
        "\n",
        "del l1[0:2]\n",
        "print(l1)"
      ],
      "metadata": {
        "id": "VhBzHFz8UTkR"
      },
      "execution_count": null,
      "outputs": []
    },
    {
      "cell_type": "code",
      "source": [
        "# max element\n",
        "\n",
        "l1 = [10,20,30]\n",
        "print(max(l1))\n",
        "\n",
        "l2= [\"appleyyyy\",'amma','appleyyyy']\n",
        "print(max(l2, key = len))\n"
      ],
      "metadata": {
        "id": "krHIOaaTVItu"
      },
      "execution_count": null,
      "outputs": []
    },
    {
      "cell_type": "code",
      "source": [
        "l1= []\n",
        "print(max(l1, default=1))\n"
      ],
      "metadata": {
        "id": "Ar0To7-UXDJd"
      },
      "execution_count": null,
      "outputs": []
    },
    {
      "cell_type": "code",
      "source": [
        "# min method\n",
        "l1 = [10,20,30]\n",
        "print(min(l1))"
      ],
      "metadata": {
        "id": "kAiqSEh9bVzn"
      },
      "execution_count": null,
      "outputs": []
    },
    {
      "cell_type": "code",
      "source": [
        "# append method\n",
        "\n",
        "l1= [10,20,30]\n",
        "l1.append(1.234)\n",
        "print(l1)"
      ],
      "metadata": {
        "id": "s7fEFbLebzAZ"
      },
      "execution_count": null,
      "outputs": []
    },
    {
      "cell_type": "code",
      "source": [
        "# append multiple elements\n",
        "k=[1,2,3,4,5]\n",
        "i=0\n",
        "while i<5:\n",
        "  l=int(input(\"enternum\"))\n",
        "  k.append(l)\n",
        "  i=i+1\n",
        "print(k)"
      ],
      "metadata": {
        "id": "kPj4R2UedTpG"
      },
      "execution_count": null,
      "outputs": []
    },
    {
      "cell_type": "code",
      "source": [
        "# extend\n",
        "l1 =[10,20,30]\n",
        "l1.extend(\"NTT\")\n",
        "print(l1)"
      ],
      "metadata": {
        "id": "dn7oknBLeR8V"
      },
      "execution_count": null,
      "outputs": []
    },
    {
      "cell_type": "code",
      "source": [
        "a=[1,2,3]\n",
        "b=[4,5,6]\n",
        "print(b.extend(a))\n",
        "print (b)\n",
        "print(a)"
      ],
      "metadata": {
        "id": "5WkcFAZlfAiK"
      },
      "execution_count": null,
      "outputs": []
    },
    {
      "cell_type": "code",
      "source": [
        "# insert\n",
        "\n",
        "l1= [10,20,30]\n",
        "l1.insert(2,15)\n",
        "print(l1)"
      ],
      "metadata": {
        "id": "HVIsStk0gqIh"
      },
      "execution_count": null,
      "outputs": []
    },
    {
      "cell_type": "code",
      "source": [
        "# remove method\n",
        "l1 = [10,20,30,40,50,60,20]\n",
        "print(l1.remove(20))  # remove returns none\n",
        "print(l1)"
      ],
      "metadata": {
        "id": "8NPRlYmwifPk"
      },
      "execution_count": null,
      "outputs": []
    },
    {
      "cell_type": "code",
      "source": [
        "#pop\n",
        "l1= [10,20,30,1,40,50]\n",
        "print(l1.pop(1))\n",
        "print(l1)"
      ],
      "metadata": {
        "id": "UFWLDgr5WcJs"
      },
      "execution_count": null,
      "outputs": []
    },
    {
      "cell_type": "code",
      "source": [
        "# clear\n",
        "l1= [10,20,30,1,40,50]\n",
        "l1.clear()\n",
        "print(l1)\n"
      ],
      "metadata": {
        "id": "GtMMm_EAjrYB"
      },
      "execution_count": null,
      "outputs": []
    },
    {
      "cell_type": "code",
      "source": [
        "#del\n",
        "l1= [10,20,30,1,40,50]\n",
        "del l1\n",
        "print(l1)"
      ],
      "metadata": {
        "id": "Q7ISBnUWkhC0"
      },
      "execution_count": null,
      "outputs": []
    },
    {
      "cell_type": "code",
      "source": [
        "l1 = [10,20,30,40]\n",
        "\n",
        "print(l1.remove(30))\n",
        "\n",
        "print(l1)"
      ],
      "metadata": {
        "id": "QrEXHxIHjJNo"
      },
      "execution_count": null,
      "outputs": []
    },
    {
      "cell_type": "code",
      "source": [
        "l2 = [10,20,30,40]\n",
        "k = l2.pop(2)\n",
        "print(l2)\n",
        "print(\"the popped ele is \", k)"
      ],
      "metadata": {
        "id": "vKxalr0Rjasz"
      },
      "execution_count": null,
      "outputs": []
    },
    {
      "cell_type": "code",
      "source": [
        "# progrm to remove duplicates from the given list\n",
        "\n",
        "uniquelist = []\n",
        "l1 = [10,20,30,10,25,20]\n",
        "\n",
        "for ele in l1:\n",
        "  if ele not in uniquelist:\n",
        "    uniquelist.append(ele)\n",
        "\n",
        "print(uniquelist)\n"
      ],
      "metadata": {
        "id": "qihUP0yAnBAP"
      },
      "execution_count": null,
      "outputs": []
    },
    {
      "cell_type": "code",
      "source": [
        "# program to find the 2nd largest no in the list\n",
        "\n",
        "l1 = [2,8,6,14]\n",
        "firstlargest = max(l1)\n",
        "#print(firstlargest)\n",
        "l1.remove(firstlargest)\n",
        "#print(l1)\n",
        "\n",
        "secondlargest = max(l1)\n",
        "print(\"the 2nd largest no is \", secondlargest)"
      ],
      "metadata": {
        "id": "NlqGiyO3o2Lp"
      },
      "execution_count": null,
      "outputs": []
    },
    {
      "cell_type": "code",
      "source": [
        "# program to remove the nth largest no\n",
        "num=int(input('Enter which largest num would you like to fetch? '))\n",
        "l1 = [8,15,7,6,3,9]\n",
        "for i in range(num-1):\n",
        "  m = max(l1)\n",
        "  l1.remove(m)\n",
        "\n",
        "print('The largest number is ', max(l1))\n",
        "\n",
        "\n",
        ""
      ],
      "metadata": {
        "id": "6DjcBDkrqmHd"
      },
      "execution_count": null,
      "outputs": []
    },
    {
      "cell_type": "code",
      "source": [
        "# program to print the occurance of the elements\n",
        "#l1 = [2,2,4,4,5,5,6,6,6]\n",
        "l1=[2,4,6,2,8,6,3,2,4]\n",
        "l2=[]\n",
        "for i in l1:\n",
        "    if i not in l2:\n",
        "        l2.append(i)\n",
        "        print(i,\"Occurs\", l1.count(i), \"times\")\n",
        "\n",
        "\n",
        ""
      ],
      "metadata": {
        "id": "-o3xNPY0uN74"
      },
      "execution_count": null,
      "outputs": []
    },
    {
      "cell_type": "code",
      "source": [
        "l1=[2,4,6,2,8,6,3,2,4]\n",
        "\n",
        "print(l1.count(4))"
      ],
      "metadata": {
        "id": "902XLm3rusNY"
      },
      "execution_count": null,
      "outputs": []
    },
    {
      "cell_type": "code",
      "source": [
        "l1 = [10,30,40]\n",
        "print(l1)\n",
        "print(type(l1))"
      ],
      "metadata": {
        "id": "Qj9LawmOxTzd"
      },
      "execution_count": null,
      "outputs": []
    },
    {
      "cell_type": "code",
      "source": [
        "# Tuple\n",
        "\n",
        "t1 = (10,20,30,40,50,\"NTT\",1.1)\n",
        "print(t1)\n",
        "print(type(t1))"
      ],
      "metadata": {
        "id": "rYDqqoo3xEyk"
      },
      "execution_count": null,
      "outputs": []
    },
    {
      "cell_type": "code",
      "source": [
        "# tuple are immulatble\n",
        "t1 = (10,20,30,40,50,\"NTT\",1.1)\n",
        "t1.remove(20)\n",
        "t1[0]=100\n",
        "\n",
        "print(t1)\n"
      ],
      "metadata": {
        "id": "IfWcA6UjxmdP"
      },
      "execution_count": null,
      "outputs": []
    },
    {
      "cell_type": "code",
      "source": [
        "# tuple creation using a constructor\n",
        "l1 = [10,20,30,40]\n",
        "\n",
        "t1 = tuple(l1)\n",
        "print(t1)\n",
        "print(type(t1))"
      ],
      "metadata": {
        "colab": {
          "base_uri": "https://localhost:8080/"
        },
        "id": "fDOr8g2OyHJs",
        "outputId": "cb167b7d-b3cf-474b-c43c-ca01bdbba6e5"
      },
      "execution_count": 25,
      "outputs": [
        {
          "output_type": "stream",
          "name": "stdout",
          "text": [
            "(10, 20, 30, 40)\n",
            "<class 'tuple'>\n"
          ]
        }
      ]
    },
    {
      "cell_type": "code",
      "source": [
        "# tuple with a single element\n",
        "\n",
        "t2 = (8,)\n",
        "print(t2)\n",
        "print(type(t2))"
      ],
      "metadata": {
        "colab": {
          "base_uri": "https://localhost:8080/"
        },
        "id": "KCkqxJBfyrIf",
        "outputId": "838c4566-356f-4eda-a6f8-7904267185c7"
      },
      "execution_count": 27,
      "outputs": [
        {
          "output_type": "stream",
          "name": "stdout",
          "text": [
            "(8,)\n",
            "<class 'tuple'>\n"
          ]
        }
      ]
    },
    {
      "cell_type": "code",
      "source": [
        "# tuple indexing\n",
        "\n",
        "t1 = (10,20,30,40,50,\"NTT\",1.1)\n",
        "print(t1[0])\n",
        "print(t1[-1])\n",
        "print(t1[-2])"
      ],
      "metadata": {
        "colab": {
          "base_uri": "https://localhost:8080/"
        },
        "id": "IuhCfgBn3loz",
        "outputId": "9b8a7811-dd36-4f6a-93f0-183b771938b1"
      },
      "execution_count": 28,
      "outputs": [
        {
          "output_type": "stream",
          "name": "stdout",
          "text": [
            "10\n",
            "1.1\n",
            "NTT\n"
          ]
        }
      ]
    },
    {
      "cell_type": "code",
      "source": [
        "# concatenation\n",
        "t1 = (10,20,30,40,50,\"NTT\",1.1)\n",
        "print(t1)\n",
        "\n",
        "newtple = t1 + (80,90)\n",
        "\n",
        "print(newtple))"
      ],
      "metadata": {
        "colab": {
          "base_uri": "https://localhost:8080/"
        },
        "id": "BVBblN7L30rK",
        "outputId": "472a1a00-3603-47f5-9575-0259c5ee5fd2"
      },
      "execution_count": 32,
      "outputs": [
        {
          "output_type": "stream",
          "name": "stdout",
          "text": [
            "135944746302336\n",
            "135944748855280\n"
          ]
        }
      ]
    },
    {
      "cell_type": "code",
      "source": [
        "# slicing\n",
        "\n",
        "t1 = (10,20,30,40,50,\"NTT\",1.1)\n",
        "\n",
        "print(t1[::])\n",
        "\n",
        "print(t1[::-1])\n"
      ],
      "metadata": {
        "colab": {
          "base_uri": "https://localhost:8080/"
        },
        "id": "e0WZNqUa49jy",
        "outputId": "24544534-7927-46ad-c769-9c4567cc3c4f"
      },
      "execution_count": 33,
      "outputs": [
        {
          "output_type": "stream",
          "name": "stdout",
          "text": [
            "(10, 20, 30, 40, 50, 'NTT', 1.1)\n",
            "(1.1, 'NTT', 50, 40, 30, 20, 10)\n"
          ]
        }
      ]
    },
    {
      "cell_type": "code",
      "source": [
        "t1 = (10,20,30,40,50,\"NTT\",1.1)\n",
        "\n",
        "for ele in t1:\n",
        "  print(ele)"
      ],
      "metadata": {
        "colab": {
          "base_uri": "https://localhost:8080/"
        },
        "id": "BIRRDroW5LvK",
        "outputId": "c8cb110f-ca8e-4070-cd95-40ac360a5971"
      },
      "execution_count": 34,
      "outputs": [
        {
          "output_type": "stream",
          "name": "stdout",
          "text": [
            "10\n",
            "20\n",
            "30\n",
            "40\n",
            "50\n",
            "NTT\n",
            "1.1\n"
          ]
        }
      ]
    },
    {
      "cell_type": "code",
      "source": [
        "import sys\n",
        "\n",
        "list1 = [10,20,30,40,50,60]\n",
        "tup1 =  (10,20,30,40,50,60)\n",
        "\n",
        "print(\"list size is \", sys.getsizeof(list1))\n",
        "\n",
        "print(\"tuple size is \", sys.getsizeof(tup1))"
      ],
      "metadata": {
        "colab": {
          "base_uri": "https://localhost:8080/"
        },
        "id": "uLksDKDD51jo",
        "outputId": "f7f42c74-dbaa-4a89-c6b3-535c03f51542"
      },
      "execution_count": 35,
      "outputs": [
        {
          "output_type": "stream",
          "name": "stdout",
          "text": [
            "list size is  104\n",
            "tuple size is  88\n"
          ]
        }
      ]
    },
    {
      "cell_type": "code",
      "source": [
        "# dictionary\n",
        "\n",
        "dict1 ={\"pp\":\"aaa\" , \"qq\":\"bbb\", \"rr\":\"ccc\",\"ss\":\"ddd\"}\n",
        "print(dict1)\n",
        "print(type(dict1))\n",
        "\n",
        "#access the dict\n",
        "\n",
        "print(dict1[\"pp\"])"
      ],
      "metadata": {
        "colab": {
          "base_uri": "https://localhost:8080/"
        },
        "id": "xZz6YyAh85mr",
        "outputId": "dcf364c8-d5da-444c-e552-3af8ede084c9"
      },
      "execution_count": 38,
      "outputs": [
        {
          "output_type": "stream",
          "name": "stdout",
          "text": [
            "{'pp': 'aaa', 'qq': 'bbb', 'rr': 'ccc', 'ss': 'ddd'}\n",
            "<class 'dict'>\n",
            "aaa\n"
          ]
        }
      ]
    },
    {
      "cell_type": "code",
      "source": [],
      "metadata": {
        "id": "IQJdlK5v9UHZ"
      },
      "execution_count": null,
      "outputs": []
    }
  ]
}