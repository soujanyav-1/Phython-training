{
  "nbformat": 4,
  "nbformat_minor": 0,
  "metadata": {
    "colab": {
      "provenance": []
    },
    "kernelspec": {
      "name": "python3",
      "display_name": "Python 3"
    },
    "language_info": {
      "name": "python"
    }
  },
  "cells": [
    {
      "cell_type": "code",
      "execution_count": null,
      "metadata": {
        "id": "LynczderHEfx"
      },
      "outputs": [],
      "source": [
        "print(\"Hello World\")"
      ]
    },
    {
      "cell_type": "code",
      "source": [],
      "metadata": {
        "id": "BiWBFSkcZeq6"
      },
      "execution_count": null,
      "outputs": []
    },
    {
      "cell_type": "code",
      "source": [
        "# simple function\n",
        "\n",
        "def fun():\n",
        "  print(\"Hello world\")\n",
        "  print(\"welcome\")\n",
        "\n",
        "\n",
        "print(\"before function call\")\n",
        "fun()\n",
        "print(\"after function call\")\n"
      ],
      "metadata": {
        "id": "MBh5kn9LVoyV"
      },
      "execution_count": null,
      "outputs": []
    },
    {
      "cell_type": "code",
      "source": [
        "# program to print the square of no\n",
        "# without arguments , without return values\n",
        "def square():\n",
        "  x = int(input(\"enetr a no\"))\n",
        "  y = x**2\n",
        "  print(\"square of\",x,\"is\",y)\n",
        "\n",
        "square()"
      ],
      "metadata": {
        "id": "FAsNwlxOZCHV"
      },
      "execution_count": null,
      "outputs": []
    },
    {
      "cell_type": "code",
      "source": [
        " #with arguments , with return values\n",
        "\n",
        "def square(x):\n",
        "    #y = x**2\n",
        "    return x**2\n",
        "\n",
        "\n",
        "x = int(input(\"enetr a no\"))\n",
        "res = square(x)\n",
        "print(res)"
      ],
      "metadata": {
        "id": "oUubBp9vdJIB"
      },
      "execution_count": null,
      "outputs": []
    },
    {
      "cell_type": "code",
      "source": [
        "#with arguments , without return values\n",
        "def square(x):\n",
        "  y = x**2\n",
        "  print(\"square of\",x,\"is\",y)\n",
        "\n",
        "\n",
        "x = int(input(\"enetr a no\"))\n",
        "square(x)\n"
      ],
      "metadata": {
        "id": "_ukEx8_3d04P"
      },
      "execution_count": null,
      "outputs": []
    },
    {
      "cell_type": "code",
      "source": [
        "#without args , with return values\n",
        "\n",
        "def square():\n",
        "  x = int(input(\"enetr a no\"))\n",
        "  y = x**2\n",
        "  return y\n",
        "\n",
        "res = square()\n",
        "print(res)"
      ],
      "metadata": {
        "id": "yeQplsX5d58J"
      },
      "execution_count": null,
      "outputs": []
    },
    {
      "cell_type": "code",
      "source": [
        "# return statement\n",
        "\n",
        "\n",
        "def test(a,b,c,d):\n",
        "\n",
        "  return a,b,c,d\n",
        "\n",
        "x,y = test(10,20,30,40)[1:3]\n",
        "\n",
        "print(x,y)\n",
        "print(type(x))"
      ],
      "metadata": {
        "id": "lMgOlMr3fJNG"
      },
      "execution_count": null,
      "outputs": []
    },
    {
      "cell_type": "code",
      "source": [
        "# return\n",
        "\n",
        "def test1():\n",
        "  l1 = [10,20,30,40]\n",
        "  t1 = (60,70,80)\n",
        "  return l1,t1\n",
        "\n",
        "x = test1()\n",
        "print(x)\n",
        "print(type(x))\n",
        "\n"
      ],
      "metadata": {
        "id": "zF54_Kotg7g8"
      },
      "execution_count": null,
      "outputs": []
    },
    {
      "cell_type": "code",
      "source": [
        "def func1(a,b,c,d):\n",
        "  return a,b,c,d\n",
        "\n",
        " = func1(10,20,30,40)\n",
        "print(a,a)\n"
      ],
      "metadata": {
        "id": "RczUuvbMkRci"
      },
      "execution_count": null,
      "outputs": []
    },
    {
      "cell_type": "code",
      "source": [
        "_ = 10\n",
        "print(_)"
      ],
      "metadata": {
        "id": "0IKhUOXFmomZ"
      },
      "execution_count": null,
      "outputs": []
    },
    {
      "cell_type": "code",
      "source": [
        "#day 13\n",
        "\n",
        "# function calling another fn\n",
        "\n",
        "def test1():\n",
        "  print(\"i am insude test1\")\n",
        "  test2() # fn call\n",
        "  print(\"i am back to test1\")\n",
        "\n",
        "def test2():\n",
        "  print(\" I am in test2\")\n",
        "  print(\"going back\")\n",
        "\n",
        "test1()  # fn call\n",
        "print(\"end of program\")"
      ],
      "metadata": {
        "id": "jxiHTB7EAlg1"
      },
      "execution_count": null,
      "outputs": []
    },
    {
      "cell_type": "code",
      "source": [
        "# LOcal Variable- lifetime\n",
        "\n",
        "def test():\n",
        "  x=10\n",
        "  x=x+1\n",
        "  print(x)\n",
        "\n",
        "test()\n",
        "test()\n",
        "test()"
      ],
      "metadata": {
        "id": "5bTQdgB6BmSf"
      },
      "execution_count": null,
      "outputs": []
    },
    {
      "cell_type": "code",
      "source": [
        "# LOcal Variable- scope\n",
        "\n",
        "def test():\n",
        "  x=10\n",
        "  x=x+1\n",
        "  print(x)\n",
        "\n",
        "test()\n",
        "#print(x) error\n",
        "test()\n",
        "test()"
      ],
      "metadata": {
        "id": "60sasPL7Dt3y"
      },
      "execution_count": null,
      "outputs": []
    },
    {
      "cell_type": "code",
      "source": [
        "# global variable\n",
        "\n",
        "n =10\n",
        "\n",
        "def fun():\n",
        "  print(n)\n",
        "\n",
        "fun()\n",
        "print(n)"
      ],
      "metadata": {
        "id": "b-8LZCR9EKrZ"
      },
      "execution_count": null,
      "outputs": []
    },
    {
      "cell_type": "code",
      "source": [
        "# global variable\n",
        "\n",
        "n =10\n",
        "\n",
        "def fun():\n",
        "  n=5   # local varibale\n",
        "  print(n)\n",
        "\n",
        "fun()\n",
        "print(n)"
      ],
      "metadata": {
        "id": "PG3hS9hpEm13"
      },
      "execution_count": null,
      "outputs": []
    },
    {
      "cell_type": "code",
      "source": [
        "# global variable\n",
        "\n",
        "n =10\n",
        "\n",
        "def fun():\n",
        "  global n # global keyword\n",
        "  n=n+1\n",
        "  print(n)\n",
        "\n",
        "def test():\n",
        "  global n\n",
        "  n= n+1\n",
        "  print(n)\n",
        "\n",
        "\n",
        "fun()\n",
        "test()\n",
        "print(n)"
      ],
      "metadata": {
        "id": "RrppPndcFEFs"
      },
      "execution_count": null,
      "outputs": []
    },
    {
      "cell_type": "code",
      "source": [
        "# Function is also an object\n",
        "\n",
        "def test():\n",
        "  print(\"hello wrold\")\n",
        "\n",
        "i =10\n",
        "print(type(i))\n",
        "\n",
        "print(type(test))\n",
        "print(test)"
      ],
      "metadata": {
        "id": "Qa3z_godHgWh"
      },
      "execution_count": null,
      "outputs": []
    },
    {
      "cell_type": "code",
      "source": [
        "def multiplier_factory(factor):\n",
        "\n",
        "  def multiplier(number):\n",
        "\n",
        "    return number * factor\n",
        "\n",
        "  # Return the nested function\n",
        "  return multiplier  # returning the inner function\n",
        "\n",
        "# Create a function that multiplies by 5\n",
        "multiply_by_5 = multiplier_factory(5)\n",
        "\n",
        "# Create a function that multiplies by 10\n",
        "multiply_by_10 = multiplier_factory(10)\n",
        "\n",
        "# Use the created functions\n",
        "result1 = multiply_by_5(8)\n",
        "result2 = multiply_by_10(4)\n",
        "\n",
        "print(f\"8 multiplied by 5 is: {result1}\")  # Output: 8 multiplied by 5 is: 40\n",
        "print(f\"4 multiplied by 10 is: {result2}\") # Output: 4 multiplied by 10 is: 40"
      ],
      "metadata": {
        "id": "kbb-1cV2IZE4"
      },
      "execution_count": null,
      "outputs": []
    },
    {
      "cell_type": "code",
      "source": [
        "# alias name for a function\n",
        "\n",
        "def test1():\n",
        "  print(\"hello\")\n",
        "\n",
        "a = test1\n",
        "\n",
        "a()"
      ],
      "metadata": {
        "id": "tmnko_WPKYtp"
      },
      "execution_count": null,
      "outputs": []
    },
    {
      "cell_type": "code",
      "source": [
        "# positional args or required ars\n",
        "\n",
        "def test(name, age, city):\n",
        "  print(\"my name is \", name , \" and my age is \", age,\" and basically from\",city)\n",
        "\n",
        "\n",
        "test(\"Ram\",25,\"Delhi\",)"
      ],
      "metadata": {
        "id": "u0VyjloJLomW"
      },
      "execution_count": null,
      "outputs": []
    },
    {
      "cell_type": "code",
      "source": [
        "# keyword args\n",
        "\n",
        "def test(name, age, city):\n",
        "  print(\"my name is \", name , \" and my age is \", age,\" and basically from\",city)\n",
        "\n",
        "\n",
        "test(age =25 , name =\"Ram\",city =\"Delhi\",)"
      ],
      "metadata": {
        "id": "uDxAGxA3Mlal"
      },
      "execution_count": null,
      "outputs": []
    },
    {
      "cell_type": "code",
      "source": [
        "# keyword args and positional args\n",
        "\n",
        "def test(name, current_city,city,age):\n",
        "  print(\"my name is \", name , \" and my age is \", age,\" and basically from\",city,\"but currently i live in\",current_city)\n",
        "\n",
        "\n",
        "test(\"ram\",\"delhi\",age = 25, city=\"Blr\")\n",
        "\n",
        "# positional args ----> keyword args\n",
        "# keyword args should follow positional ars ,"
      ],
      "metadata": {
        "id": "19tyfsdxNBGM"
      },
      "execution_count": null,
      "outputs": []
    },
    {
      "cell_type": "code",
      "source": [
        "# default arguments\n",
        "\n",
        "def student(name , age , m1,m2,m3 ,college=\"UVCE\"):\n",
        "\n",
        "  print(name,age, m1,m2,m3,college)\n",
        "\n",
        "\n",
        "student(\"John\",25,90,80,70)\n",
        "student(\"Rose\",21,91,86,75,\"SSEC\")"
      ],
      "metadata": {
        "colab": {
          "base_uri": "https://localhost:8080/"
        },
        "id": "tm_31THXP_0r",
        "outputId": "acdc32c2-adc2-4ca2-ce99-1fd7afd803a8"
      },
      "execution_count": null,
      "outputs": [
        {
          "output_type": "stream",
          "name": "stdout",
          "text": [
            "John 25 90 80 70 UVCE\n",
            "Rose 21 91 86 75 SSEC\n"
          ]
        }
      ]
    },
    {
      "cell_type": "code",
      "source": [
        "# positional agrs ----> keyword args -----> Default args\n",
        "\n",
        "def student(name , age , m1,m2,m3,college=\"UVCE\"):\n",
        "\n",
        "  print(name,age, m1,m2,m3,college)\n",
        "\n",
        "\n",
        "student(\"John\",age=21,m1=25,m2=90,m3=80, college= \"SS\")\n",
        "student(\"Rose\",21,91,86,75)"
      ],
      "metadata": {
        "id": "OgsZqe7jRETj"
      },
      "execution_count": null,
      "outputs": []
    },
    {
      "cell_type": "code",
      "source": [
        "# variable length args\n",
        "def fun(*a):\n",
        "  print(a)\n",
        "  print(type(a))\n",
        "\n",
        "fun(1,2)\n",
        "fun(1,2,3)\n",
        "fun(1,2,3,4)"
      ],
      "metadata": {
        "colab": {
          "base_uri": "https://localhost:8080/"
        },
        "id": "0vlZRYWPS68V",
        "outputId": "b58ab8ee-2c7c-40e4-e2d0-8274c6891a77"
      },
      "execution_count": null,
      "outputs": [
        {
          "output_type": "stream",
          "name": "stdout",
          "text": [
            "(1, 2)\n",
            "<class 'tuple'>\n",
            "(1, 2, 3)\n",
            "<class 'tuple'>\n",
            "(1, 2, 3, 4)\n",
            "<class 'tuple'>\n"
          ]
        }
      ]
    },
    {
      "cell_type": "code",
      "source": [
        "# variable length positional args\n",
        "def sum(*a):\n",
        "\n",
        "  s = 0\n",
        "  for i in a:\n",
        "    s = s+i\n",
        "  print(s)\n",
        "\n",
        "sum(1,2)\n",
        "sum(1,2,3)\n",
        "sum(1,2,3,4)\n",
        "\n"
      ],
      "metadata": {
        "id": "Ki0px8p4TsFj"
      },
      "execution_count": null,
      "outputs": []
    },
    {
      "cell_type": "code",
      "source": [
        "# variable length keyword args\n",
        "\n",
        "def addition(**a):\n",
        "\n",
        "  s=0\n",
        "  for n in a.values():\n",
        "    s= s+n\n",
        "  print(s)\n",
        "\n",
        "addition(a=10,b=20)  # values are packed as a dict\n",
        "addition(a=22,b=33,c=44)"
      ],
      "metadata": {
        "id": "m4wk1VucUY6R"
      },
      "execution_count": null,
      "outputs": []
    },
    {
      "cell_type": "code",
      "source": [
        "# variable length positional args and variable length keyword  args\n",
        "\n",
        "def add(*num,**nums ):\n",
        "  print(sum(num))\n",
        "  print(sum(nums.values()))\n",
        "\n",
        "add(10,20,30,40, n1=100,n2=200,n3=300)"
      ],
      "metadata": {
        "colab": {
          "base_uri": "https://localhost:8080/"
        },
        "id": "QdNRp6gmTSnr",
        "outputId": "0c596f94-cfac-4fd8-8887-d21bd80ceb13"
      },
      "execution_count": null,
      "outputs": [
        {
          "output_type": "stream",
          "name": "stdout",
          "text": [
            "100\n",
            "600\n"
          ]
        }
      ]
    },
    {
      "cell_type": "code",
      "source": [
        "#variable length positional args , keyword ars, default agrs\n",
        "\n",
        "def student(name,clas,*parents_name,age,school= \"UVCE\",**marks):\n",
        "  print('Name: ',name)\n",
        "  print('class: ',clas)\n",
        "  print('Parents: ', parents_name)\n",
        "  print('Age: ',age)\n",
        "  print('Marks: ',marks)\n",
        "  print('School: ',school)\n",
        "\n",
        "student('Ravi',5,'A','B',age=12,eng=90,maths=87,science=91)\n",
        "\n"
      ],
      "metadata": {
        "colab": {
          "base_uri": "https://localhost:8080/"
        },
        "id": "LzwuTf2UXJHt",
        "outputId": "426a5e8e-0046-4b68-e904-366d4fcba30d"
      },
      "execution_count": null,
      "outputs": [
        {
          "output_type": "stream",
          "name": "stdout",
          "text": [
            "Name:  Ravi\n",
            "class:  5\n",
            "Parents:  ('A', 'B')\n",
            "Age:  12\n",
            "Marks:  {'eng': 90, 'maths': 87, 'science': 91}\n",
            "School:  UVCE\n"
          ]
        }
      ]
    },
    {
      "cell_type": "code",
      "source": [
        "#lambda function return single value\n",
        "\n",
        "var = lambda x,y,z : x+y+z\n",
        "print(var(10,20,30))"
      ],
      "metadata": {
        "colab": {
          "base_uri": "https://localhost:8080/"
        },
        "id": "3YrLWf20cDpp",
        "outputId": "d4a75c1b-91b4-42c0-fa97-ec884f7e7ed2"
      },
      "execution_count": null,
      "outputs": [
        {
          "output_type": "stream",
          "name": "stdout",
          "text": [
            "60\n"
          ]
        }
      ]
    },
    {
      "cell_type": "code",
      "source": [
        "add =lambda x,y : [x+y , x-y]\n",
        "print( type(add(2,3)))\n",
        "print( add(2,3))"
      ],
      "metadata": {
        "colab": {
          "base_uri": "https://localhost:8080/"
        },
        "id": "DunOwRPLckCd",
        "outputId": "a53213d1-2cbd-4f60-8215-eb42839c2e8a"
      },
      "execution_count": null,
      "outputs": [
        {
          "output_type": "stream",
          "name": "stdout",
          "text": [
            "<class 'list'>\n",
            "[5, -1]\n"
          ]
        }
      ]
    },
    {
      "cell_type": "code",
      "source": [
        "a= lambda: print(\"hello\")\n",
        "print(a())"
      ],
      "metadata": {
        "colab": {
          "base_uri": "https://localhost:8080/"
        },
        "id": "veynkrGIdX20",
        "outputId": "c7456845-8f91-45d3-b8ca-3f0e30b2b12b"
      },
      "execution_count": null,
      "outputs": [
        {
          "output_type": "stream",
          "name": "stdout",
          "text": [
            "hello\n",
            "None\n"
          ]
        }
      ]
    },
    {
      "cell_type": "code",
      "source": [
        "# using default agrs\n",
        "add = lambda x, y=1 : x+y\n",
        "\n",
        "print(add(4))"
      ],
      "metadata": {
        "colab": {
          "base_uri": "https://localhost:8080/"
        },
        "id": "0vX0NVo0dv_l",
        "outputId": "205fa762-1585-4cf5-cd0a-862be17eb18a"
      },
      "execution_count": null,
      "outputs": [
        {
          "output_type": "stream",
          "name": "stdout",
          "text": [
            "5\n"
          ]
        }
      ]
    },
    {
      "cell_type": "code",
      "source": [
        "# using key word args\n",
        "add = lambda x, y : x+y\n",
        "print(add(x=5,y=6))"
      ],
      "metadata": {
        "colab": {
          "base_uri": "https://localhost:8080/"
        },
        "id": "4p5DYCQPd-iZ",
        "outputId": "12ccfe2d-b6ec-44c2-b53f-6f35d87fa809"
      },
      "execution_count": null,
      "outputs": [
        {
          "output_type": "stream",
          "name": "stdout",
          "text": [
            "11\n"
          ]
        }
      ]
    },
    {
      "cell_type": "code",
      "source": [
        "# using var lenghth args\n",
        "add = lambda *x: sum(x)\n",
        "print(add(1,2,3,4,5))"
      ],
      "metadata": {
        "colab": {
          "base_uri": "https://localhost:8080/"
        },
        "id": "oqzaV6YbeL-S",
        "outputId": "db143947-f4fc-42e0-8043-474ba0503272"
      },
      "execution_count": null,
      "outputs": [
        {
          "output_type": "stream",
          "name": "stdout",
          "text": [
            "15\n"
          ]
        }
      ]
    },
    {
      "cell_type": "code",
      "source": [
        "area = lambda r: 3.14*r*r\n",
        "print(area(5))\n"
      ],
      "metadata": {
        "colab": {
          "base_uri": "https://localhost:8080/"
        },
        "id": "TGfdGyy_esfA",
        "outputId": "8443d7b1-effa-4258-faf4-d334f2a2dd2e"
      },
      "execution_count": null,
      "outputs": [
        {
          "output_type": "stream",
          "name": "stdout",
          "text": [
            "78.5\n"
          ]
        }
      ]
    },
    {
      "cell_type": "code",
      "source": [
        "# class and Objects\n",
        "\n",
        "class Calculator:\n",
        "  n1=0    # attributes\n",
        "  n2=0\n",
        "  res = 0\n",
        "\n",
        "  def __init__(self,n1,n2):  # methods\n",
        "    self.n1=0\n",
        "    self.n2=0\n",
        "    self.res=0\n",
        "\n",
        "  def add(self , n1,n2):\n",
        "    pass\n",
        "\n",
        "  def sub(self , n1,n2):\n",
        "    pass\n",
        "\n",
        "  def mul(self , n1,n2):\n",
        "    pass\n",
        "\n",
        "  def div(self , n1,n2):\n",
        "    pass\n",
        "\n",
        "\n",
        "\n",
        "ob1 = Calculator(10,20) # obj1 creation\n",
        "ob2 = Calculator(100,200) # obj2 creation"
      ],
      "metadata": {
        "id": "12ag4DICkyha"
      },
      "execution_count": null,
      "outputs": []
    },
    {
      "cell_type": "code",
      "source": [
        "# Class example\n",
        "\n",
        "class Sample:\n",
        "\n",
        "  def __init__(self):\n",
        "    self.data = 10\n",
        "\n",
        "  def input_data(self):\n",
        "    self.data = input(\"enter some text\")\n",
        "\n",
        "  def process_data(self):\n",
        "    self.data = self.data.upper()\n",
        "\n",
        "  def output_data(self):\n",
        "    print(self.data)\n",
        "\n",
        "Obj1 = Sample()   #obj creation\n",
        "Obj2= Sample()\n",
        "Obj3 = Sample()\n",
        "\n",
        "Obj1.input_data()\n",
        "Obj1.process_data()\n",
        "Obj1.output_data()\n",
        "\n",
        "Obj2.input_data()\n",
        "Obj2.process_data()\n",
        "Obj2.output_data()\n",
        "\n",
        "Obj3.input_data()\n",
        "Obj3.process_data()\n",
        "Obj3.output_data()\n",
        "\n"
      ],
      "metadata": {
        "id": "HEzf854Blc8y"
      },
      "execution_count": null,
      "outputs": []
    },
    {
      "cell_type": "code",
      "source": [
        "# simple calculator\n",
        "\n",
        "class Calculator:\n",
        "\n",
        "  def __init__(self):\n",
        "    self.n1=0             #attributes\n",
        "    self.n2=0\n",
        "    self.res=0\n",
        "\n",
        "  def input_data(self):\n",
        "    self.n1 = 100\n",
        "    self.n2 = 200\n",
        "\n",
        "\n",
        "  def add(self):\n",
        "    self.res = self.n1 + self.n2\n",
        "    print(self.res)\n",
        "\n",
        "  def sub(self):\n",
        "    self.res = self.n1 - self.n2\n",
        "    print(self.res)\n",
        "\n",
        "  def compare(self, other, other1):\n",
        "    if self.res == other.res:\n",
        "      return True\n",
        "    else:\n",
        "      return False\n",
        "\n",
        "\n",
        "\n",
        "c1 = Calculator()  # obj creation\n",
        "c1.input_data()\n",
        "c1.add()\n",
        "c1.sub()\n",
        "\n",
        "\n",
        "c2 = Calculator()\n",
        "c2.input_data()\n",
        "c2.add()\n",
        "c2.sub()\n",
        "\n",
        "c1.compare(c2,10)\n",
        "\n",
        "\n"
      ],
      "metadata": {
        "colab": {
          "base_uri": "https://localhost:8080/",
          "height": 220
        },
        "id": "V3B7bgf3qqUL",
        "outputId": "412369c7-39f1-44b7-a778-c54e09e717e9"
      },
      "execution_count": null,
      "outputs": [
        {
          "output_type": "error",
          "ename": "TypeError",
          "evalue": "Calculator.add() takes 0 positional arguments but 1 was given",
          "traceback": [
            "\u001b[0;31m---------------------------------------------------------------------------\u001b[0m",
            "\u001b[0;31mTypeError\u001b[0m                                 Traceback (most recent call last)",
            "\u001b[0;32m<ipython-input-4-46576b852875>\u001b[0m in \u001b[0;36m<cell line: 0>\u001b[0;34m()\u001b[0m\n\u001b[1;32m     30\u001b[0m \u001b[0mc1\u001b[0m \u001b[0;34m=\u001b[0m \u001b[0mCalculator\u001b[0m\u001b[0;34m(\u001b[0m\u001b[0;34m)\u001b[0m  \u001b[0;31m# obj creation\u001b[0m\u001b[0;34m\u001b[0m\u001b[0;34m\u001b[0m\u001b[0m\n\u001b[1;32m     31\u001b[0m \u001b[0mc1\u001b[0m\u001b[0;34m.\u001b[0m\u001b[0minput_data\u001b[0m\u001b[0;34m(\u001b[0m\u001b[0;34m)\u001b[0m\u001b[0;34m\u001b[0m\u001b[0;34m\u001b[0m\u001b[0m\n\u001b[0;32m---> 32\u001b[0;31m \u001b[0mc1\u001b[0m\u001b[0;34m.\u001b[0m\u001b[0madd\u001b[0m\u001b[0;34m(\u001b[0m\u001b[0;34m)\u001b[0m\u001b[0;34m\u001b[0m\u001b[0;34m\u001b[0m\u001b[0m\n\u001b[0m\u001b[1;32m     33\u001b[0m \u001b[0mc1\u001b[0m\u001b[0;34m.\u001b[0m\u001b[0msub\u001b[0m\u001b[0;34m(\u001b[0m\u001b[0;34m)\u001b[0m\u001b[0;34m\u001b[0m\u001b[0;34m\u001b[0m\u001b[0m\n\u001b[1;32m     34\u001b[0m \u001b[0;34m\u001b[0m\u001b[0m\n",
            "\u001b[0;31mTypeError\u001b[0m: Calculator.add() takes 0 positional arguments but 1 was given"
          ]
        }
      ]
    },
    {
      "cell_type": "code",
      "source": [
        "# student details\n",
        "class Student:\n",
        "\n",
        "  def __init__(self):\n",
        "    self.name = \"\"\n",
        "    self.age = 0\n",
        "    self.m1=0\n",
        "    self.m2=0\n",
        "    self.m3=0\n",
        "    self.avg=0\n",
        "\n",
        "  def input_data(self):\n",
        "    self.name = input(\"enter name\")\n",
        "    self.age = int(input(\"enter age\"))\n",
        "    self.m1 = int(input(\"enter m1\"))\n",
        "    self.m2 = int(input(\"enter m2\"))\n",
        "    self.m3 = int(input(\"enter m3\"))\n",
        "\n",
        "  def calculate_avg(self):\n",
        "    self.avg = (self.m1+self.m2+self.m3)/3\n",
        "\n",
        "  def student_data(self):\n",
        "    print(\"Name: \",self.name)\n",
        "    print(\"Age: \",self.age)\n",
        "    print(\"Marks: \",self.m1,self.m2,self.m3)\n",
        "    print(\"Average: \",self.avg)\n",
        "\n",
        "\n",
        "s1= Student()\n",
        "s2 = Student()\n",
        "s3 = Student()\n",
        "\n",
        "s1.input_data()\n",
        "s1.calculate_avg()\n",
        "s1.student_data()\n",
        "\n",
        "s2.input_data()\n",
        "s2.calculate_avg()\n",
        "s2.student_data()\n",
        "\n",
        "s3.input_data()\n",
        "s3.calculate_avg()\n",
        "s3.student_data()\n",
        "\n"
      ],
      "metadata": {
        "colab": {
          "base_uri": "https://localhost:8080/"
        },
        "id": "Jk_FyAO-xrSD",
        "outputId": "a1166e8c-2d33-4f6b-bcda-d6b93d3c9797"
      },
      "execution_count": null,
      "outputs": [
        {
          "output_type": "stream",
          "name": "stdout",
          "text": [
            "enter nameVijay\n",
            "enter age20\n",
            "enter m190\n",
            "enter m290\n",
            "enter m380\n",
            "Name:  Vijay\n",
            "Age:  20\n",
            "Marks:  90 90 80\n",
            "Average:  86.66666666666667\n",
            "enter nameJohn\n",
            "enter age21\n",
            "enter m178\n",
            "enter m290\n",
            "enter m399\n",
            "Name:  John\n",
            "Age:  21\n",
            "Marks:  78 90 99\n",
            "Average:  89.0\n",
            "enter nameGeetha\n",
            "enter age21\n",
            "enter m189\n",
            "enter m279\n",
            "enter m359\n",
            "Name:  Geetha\n",
            "Age:  21\n",
            "Marks:  89 79 59\n",
            "Average:  75.66666666666667\n"
          ]
        }
      ]
    },
    {
      "cell_type": "code",
      "source": [
        "class Test:\n",
        "\n",
        "  def __init__(self , aa,bb):\n",
        "    self.res=0\n",
        "    self.total=100\n",
        "    self.a= aa\n",
        "    self.b= bb\n",
        "\n",
        "  def outputdata(self):\n",
        "    print(self.a,self.b)\n",
        "\n",
        "t1 = Test(10,20)\n",
        "t2 = Test (1.1,2.2)\n",
        "\n",
        "t1.outputdata()\n",
        "t2.outputdata()"
      ],
      "metadata": {
        "colab": {
          "base_uri": "https://localhost:8080/"
        },
        "id": "t66d1QjS1ig1",
        "outputId": "78fee84a-9b7c-461d-ca94-2a958ae955f4"
      },
      "execution_count": null,
      "outputs": [
        {
          "output_type": "stream",
          "name": "stdout",
          "text": [
            "10 20\n",
            "1.1 2.2\n"
          ]
        }
      ]
    },
    {
      "cell_type": "code",
      "source": [
        "class Employee:\n",
        "\n",
        "  def __init__(self,name,id,dept,bsal):\n",
        "    self.emp_name = name\n",
        "    self.emp_id = id\n",
        "    self.emp_dept = dept\n",
        "    self.bsal = bsal\n",
        "    self.bonus = 20\n",
        "    self.fsal = 0\n",
        "\n",
        "  def cal_sal(self):\n",
        "    self.fsal = self.bsal + (self.bsal*self.bonus/100)\n",
        "\n",
        "  def output_data(self):\n",
        "    print('Name: ',self.emp_name)\n",
        "    print('Id: ',self.emp_id)\n",
        "    print('Dept: ',self.emp_dept)\n",
        "    print('Total Salary: ',self.fsal)\n",
        "a= input(\"enter a name\")\n",
        "b= input(\"enter the emp id\")\n",
        "e1 = Employee(a,b,'Tech',10000)\n",
        "e1.cal_sal()\n",
        "e1.output_data()"
      ],
      "metadata": {
        "colab": {
          "base_uri": "https://localhost:8080/"
        },
        "id": "5KbtwMlQ4eDE",
        "outputId": "96c60f8a-a121-480d-810f-da7d35b8ff72"
      },
      "execution_count": null,
      "outputs": [
        {
          "output_type": "stream",
          "name": "stdout",
          "text": [
            "enter a namealex\n",
            "Name:  alex\n",
            "Id:  101\n",
            "Dept:  Tech\n",
            "Total Salary:  12000.0\n"
          ]
        }
      ]
    },
    {
      "cell_type": "code",
      "source": [
        "def __init__(self):\n",
        "  pass\n",
        "\n",
        "\n",
        "def fun1():\n",
        "\n",
        "\n",
        "def fun2():\n",
        "  pass\n",
        "\n",
        "def fun3():\n",
        "  pass\n",
        "\n",
        "\n",
        "\n"
      ],
      "metadata": {
        "id": "2lDyClmn6bJX"
      },
      "execution_count": null,
      "outputs": []
    },
    {
      "cell_type": "code",
      "source": [
        "def funnn():\n",
        "  pass\n",
        "\n",
        "\n",
        "funnn()"
      ],
      "metadata": {
        "id": "ROi2ixm77Ba6"
      },
      "execution_count": null,
      "outputs": []
    },
    {
      "cell_type": "code",
      "source": [
        "# Day 16\n",
        "# class varaible\n",
        "\n",
        "class Student:\n",
        "  student_count=0  # class variable\n",
        "  collegename= \"JJCET\"\n",
        "\n",
        "  def __init__(self,name , age):\n",
        "    self.name = name\n",
        "    self.age= age\n",
        "    Student.student_count = Student.student_count+1\n",
        "    print(Student.student_count)\n",
        "    self.collegename= \"UVCE\"   # local instance variable\n",
        "\n",
        "  def display(self):\n",
        "    print(self.name , self.age ,self.collegename, Student.collegename)\n",
        "\n",
        "s1 = Student(\"Ram\",20)\n",
        "s2 = Student(\"Tejas\",21)\n",
        "s3= Student(\"Rose\",22)\n",
        "\n",
        "s1.display()\n",
        "s2.display()\n",
        "s3.display()\n",
        "\n",
        "print(Student.collegename)\n",
        "print(s1.collegename)\n",
        "print(s2.student_count)\n"
      ],
      "metadata": {
        "colab": {
          "base_uri": "https://localhost:8080/"
        },
        "id": "J8dXd70VB03g",
        "outputId": "dd6b89fd-6235-46a7-d928-7581aa80bb1d"
      },
      "execution_count": 6,
      "outputs": [
        {
          "output_type": "stream",
          "name": "stdout",
          "text": [
            "1\n",
            "2\n",
            "3\n",
            "Ram 20 UVCE JJCET\n",
            "Tejas 21 UVCE JJCET\n",
            "Rose 22 UVCE JJCET\n",
            "JJCET\n",
            "UVCE\n",
            "3\n"
          ]
        }
      ]
    },
    {
      "cell_type": "code",
      "source": [
        "#class methods\n",
        "\n",
        "\n",
        "class Student:\n",
        "  student_count=0  # class variable\n",
        "  collegename= \"JJCET\"\n",
        "\n",
        "  def __init__(self,name , age):\n",
        "    self.name = name\n",
        "    self.age= age\n",
        "    Student.student_count = Student.student_count+1\n",
        "    print(Student.student_count)\n",
        "    self.collegename= \"UVCE\"   # local instance variable\n",
        "\n",
        "\n",
        "  @classmethod                 #class method\n",
        "  def get_college(cls):\n",
        "    print(cls.collegename)\n",
        "\n",
        "  def display(self):\n",
        "    print(self.name , self.age ,self.collegename, Student.collegename)\n",
        "\n",
        "s1 = Student(\"Ram\",20)\n",
        "s2 = Student(\"Tejas\",21)\n",
        "s3= Student(\"Rose\",22)\n",
        "\n",
        "Student.get_college()         # class method called\n",
        "\n",
        "s1.display()\n",
        "s2.display()\n",
        "s3.display()\n",
        "\"\"\"\n",
        "print(Student.collegename)\n",
        "print(s1.collegename)\n",
        "print(s2.student_count) \"\"\"\n"
      ],
      "metadata": {
        "colab": {
          "base_uri": "https://localhost:8080/",
          "height": 163
        },
        "id": "Ytx67bD2GgaO",
        "outputId": "3921308c-f359-426c-efa8-1d37376b0a6a"
      },
      "execution_count": 7,
      "outputs": [
        {
          "output_type": "stream",
          "name": "stdout",
          "text": [
            "1\n",
            "2\n",
            "3\n",
            "JJCET\n",
            "Ram 20 UVCE JJCET\n",
            "Tejas 21 UVCE JJCET\n",
            "Rose 22 UVCE JJCET\n"
          ]
        },
        {
          "output_type": "execute_result",
          "data": {
            "text/plain": [
              "'\\nprint(Student.collegename)\\nprint(s1.collegename)\\nprint(s2.student_count) '"
            ],
            "application/vnd.google.colaboratory.intrinsic+json": {
              "type": "string"
            }
          },
          "metadata": {},
          "execution_count": 7
        }
      ]
    },
    {
      "cell_type": "code",
      "source": [
        "# inheritance\n",
        "\n",
        "\n",
        "class Employee:  #withoutr inheritance\n",
        "  bonus=2000\n",
        "  def display(self):\n",
        "    print(\"this is a employee class method\")\n",
        "\n",
        "\n",
        "class Manager:\n",
        "  bonus1 =5000\n",
        "  def show(self):\n",
        "    print(\"This is a manager class method\")\n",
        "\n",
        "e1= Employee()\n",
        "e1.display()\n",
        "\n",
        "\n",
        "m1= Manager()\n",
        "m1.show()\n",
        "\n",
        "m1.bonus  # error\n",
        "\n"
      ],
      "metadata": {
        "colab": {
          "base_uri": "https://localhost:8080/",
          "height": 238
        },
        "id": "t6Awkbc4JXFb",
        "outputId": "be814529-324b-4cdd-8819-21c2c19720ac"
      },
      "execution_count": 9,
      "outputs": [
        {
          "output_type": "stream",
          "name": "stdout",
          "text": [
            "this is a employee class method\n",
            "This is a manager class method\n"
          ]
        },
        {
          "output_type": "error",
          "ename": "AttributeError",
          "evalue": "'Manager' object has no attribute 'bonus'",
          "traceback": [
            "\u001b[0;31m---------------------------------------------------------------------------\u001b[0m",
            "\u001b[0;31mAttributeError\u001b[0m                            Traceback (most recent call last)",
            "\u001b[0;32m<ipython-input-9-2c8590132d65>\u001b[0m in \u001b[0;36m<cell line: 0>\u001b[0;34m()\u001b[0m\n\u001b[1;32m     20\u001b[0m \u001b[0mm1\u001b[0m\u001b[0;34m.\u001b[0m\u001b[0mshow\u001b[0m\u001b[0;34m(\u001b[0m\u001b[0;34m)\u001b[0m\u001b[0;34m\u001b[0m\u001b[0;34m\u001b[0m\u001b[0m\n\u001b[1;32m     21\u001b[0m \u001b[0;34m\u001b[0m\u001b[0m\n\u001b[0;32m---> 22\u001b[0;31m \u001b[0mm1\u001b[0m\u001b[0;34m.\u001b[0m\u001b[0mbonus\u001b[0m\u001b[0;34m\u001b[0m\u001b[0;34m\u001b[0m\u001b[0m\n\u001b[0m\u001b[1;32m     23\u001b[0m \u001b[0;34m\u001b[0m\u001b[0m\n",
            "\u001b[0;31mAttributeError\u001b[0m: 'Manager' object has no attribute 'bonus'"
          ]
        }
      ]
    },
    {
      "cell_type": "code",
      "source": [
        "# inheritance\n",
        "\n",
        "\n",
        "class Employee:  #withoutr inheritance\n",
        "  bonus=2000\n",
        "  def display(self):\n",
        "    print(\"this is a employee class method\")\n",
        "\n",
        "\n",
        "class Manager(Employee):\n",
        "  bonus1 =5000\n",
        "  def show(self):\n",
        "    print(\"This is a manager class method\")\n",
        "\n",
        "e1= Employee()\n",
        "e1.display()\n",
        "\n",
        "\n",
        "m1= Manager()\n",
        "m1.show()\n",
        "\n",
        "m1.bonus  # error\n",
        "\n",
        ""
      ],
      "metadata": {
        "colab": {
          "base_uri": "https://localhost:8080/",
          "height": 238
        },
        "id": "8wzrXFyWKiyc",
        "outputId": "43179973-cf82-456c-926f-1d7c5b6e0eda"
      },
      "execution_count": 11,
      "outputs": [
        {
          "output_type": "stream",
          "name": "stdout",
          "text": [
            "this is a employee class method\n",
            "This is a manager class method\n"
          ]
        },
        {
          "output_type": "error",
          "ename": "AttributeError",
          "evalue": "'Employee' object has no attribute 'bonus1'",
          "traceback": [
            "\u001b[0;31m---------------------------------------------------------------------------\u001b[0m",
            "\u001b[0;31mAttributeError\u001b[0m                            Traceback (most recent call last)",
            "\u001b[0;32m<ipython-input-11-bbd99cc9403b>\u001b[0m in \u001b[0;36m<cell line: 0>\u001b[0;34m()\u001b[0m\n\u001b[1;32m     21\u001b[0m \u001b[0;34m\u001b[0m\u001b[0m\n\u001b[1;32m     22\u001b[0m \u001b[0mm1\u001b[0m\u001b[0;34m.\u001b[0m\u001b[0mbonus\u001b[0m  \u001b[0;31m# error\u001b[0m\u001b[0;34m\u001b[0m\u001b[0;34m\u001b[0m\u001b[0m\n\u001b[0;32m---> 23\u001b[0;31m \u001b[0me1\u001b[0m\u001b[0;34m.\u001b[0m\u001b[0mbonus1\u001b[0m\u001b[0;34m\u001b[0m\u001b[0;34m\u001b[0m\u001b[0m\n\u001b[0m\u001b[1;32m     24\u001b[0m \u001b[0;34m\u001b[0m\u001b[0m\n",
            "\u001b[0;31mAttributeError\u001b[0m: 'Employee' object has no attribute 'bonus1'"
          ]
        }
      ]
    },
    {
      "cell_type": "code",
      "source": [
        "# constructors in inheritance\n",
        "\n",
        "class Father:\n",
        "  def __init__(self):\n",
        "    print(\"Father class constructor\")\n",
        "    self.vehicle = \"Scooter\"\n",
        "\n",
        "class Son(Father):\n",
        "  pass\n",
        "\n",
        "s= Son()\n",
        "print(s.__dict__)\n",
        "\n",
        "\n",
        ""
      ],
      "metadata": {
        "colab": {
          "base_uri": "https://localhost:8080/"
        },
        "id": "Tzycu4kSLLB4",
        "outputId": "a669bcae-3506-4331-b004-9482ad77bbe1"
      },
      "execution_count": 12,
      "outputs": [
        {
          "output_type": "stream",
          "name": "stdout",
          "text": [
            "Father class constructor\n",
            "{'vehicle': 'Scooter'}\n"
          ]
        }
      ]
    },
    {
      "cell_type": "code",
      "source": [
        "# constructors in inheritance\n",
        "\n",
        "class Father:\n",
        "  def __init__(self):\n",
        "    print(\"Father class constructor\")\n",
        "    self.vehicle = \"Scooter\"\n",
        "\n",
        "class Son(Father):\n",
        "\n",
        "  def __init__(self):\n",
        "    print(\"son class constructor\")\n",
        "    self.vehicle= \"BMW\"\n",
        "\n",
        "s= Son()\n",
        "print(s.__dict__)"
      ],
      "metadata": {
        "colab": {
          "base_uri": "https://localhost:8080/"
        },
        "id": "tRB6WUjmMIw1",
        "outputId": "d35a61b4-5605-48bc-add6-772359622aa1"
      },
      "execution_count": 13,
      "outputs": [
        {
          "output_type": "stream",
          "name": "stdout",
          "text": [
            "son class constructor\n",
            "{'vehicle': 'BMW'}\n"
          ]
        }
      ]
    },
    {
      "cell_type": "code",
      "source": [
        "## super method\n",
        "\n",
        "class Computer:\n",
        "  def __init__(self):\n",
        "    print(\"Computer class constructor\")\n",
        "    self.ram= \"8GB\"\n",
        "    self.processor = \"i5\"\n",
        "\n",
        "\n",
        "class Mobile(Computer):\n",
        "  def __init__(self):\n",
        "    super().__init__()\n",
        "    self.model= \"iphone\"\n",
        "    print(\"mob constructor calld\")\n",
        "\n",
        "\n",
        "\n",
        "m = Mobile()\n",
        "\n",
        "print(m.__dict__)"
      ],
      "metadata": {
        "colab": {
          "base_uri": "https://localhost:8080/"
        },
        "id": "7rdKkAmbNEo3",
        "outputId": "115290db-135b-4ae5-c90c-708b0621abb3"
      },
      "execution_count": 16,
      "outputs": [
        {
          "output_type": "stream",
          "name": "stdout",
          "text": [
            "Computer class constructor\n",
            "mob constructor calld\n",
            "{'ram': '8GB', 'processor': 'i5', 'model': 'iphone'}\n"
          ]
        }
      ]
    },
    {
      "cell_type": "code",
      "source": [
        "# Parameterized Super method\n",
        "\n",
        "class Computer:\n",
        "  def __init__(self,ram,pro):\n",
        "    print(\"Computer class constructor\")\n",
        "    self.ram= ram\n",
        "    self.processor = pro\n",
        "\n",
        "\n",
        "class Mobile(Computer):\n",
        "  def __init__(self,ram, processor):\n",
        "    super().__init__(ram,processor)\n",
        "    self.model= \"iphone\"\n",
        "    print(\"mob constructor calld\")\n",
        "\n",
        "\n",
        "\n",
        "m = Mobile('8GB','i7')\n",
        "\n",
        "print(m.__dict__)\n",
        "\n"
      ],
      "metadata": {
        "colab": {
          "base_uri": "https://localhost:8080/"
        },
        "id": "3H0Oho6NPjlP",
        "outputId": "6d9f801c-59c2-42e3-85f7-96d51a861337"
      },
      "execution_count": 17,
      "outputs": [
        {
          "output_type": "stream",
          "name": "stdout",
          "text": [
            "Computer class constructor\n",
            "mob constructor calld\n",
            "{'ram': '8GB', 'processor': 'i7', 'model': 'iphone'}\n"
          ]
        }
      ]
    }
  ]
}